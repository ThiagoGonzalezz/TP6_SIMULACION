{
  "nbformat": 4,
  "nbformat_minor": 0,
  "metadata": {
    "colab": {
      "provenance": [],
      "include_colab_link": true
    },
    "kernelspec": {
      "name": "python3",
      "display_name": "Python 3"
    },
    "language_info": {
      "name": "python"
    }
  },
  "cells": [
    {
      "cell_type": "markdown",
      "metadata": {
        "id": "view-in-github",
        "colab_type": "text"
      },
      "source": [
        "<a href=\"https://colab.research.google.com/github/ThiagoGonzalezz/TP6_SIMULACION/blob/main/Glovo.ipynb\" target=\"_parent\"><img src=\"https://colab.research.google.com/assets/colab-badge.svg\" alt=\"Open In Colab\"/></a>"
      ]
    },
    {
      "cell_type": "markdown",
      "source": [
        "# Procesamiento y ajuste de datos mediante el uso de Python y Google Colab\n",
        "\n",
        "El objetivo de este trabajo consiste en:\n",
        "\n",
        "1.   Realizar el procesamiento de un set de datos de transporte mediante el uso del lenguaje programación Python y las bibliotecas Pandas y Numpy, utilizando el entorno de Google Colab.\n",
        "2.   Obetener información necesaria del dataset con Pandas y desarrollar visualizaciones básicas de los datos mediante la librería MatPlotlib.\n",
        "3.   Ajustar los datos de origen a una serie de funciones de densidad de probabilidad sugeridas, mediante el uso de la biblioteca Fitter.\n",
        "4.   Con la obtención de la(s) fdp(s) sugeridas, simular un array de datos y verificar por medio de gráficos o un nuevo ajuste, que los datos generados son de características similares a los de orígen.\n",
        "\n",
        "Este análisis lo realizaremos mediante el entorno de Google Colab. Pueden investigar más sobre este entorno y sus funcionalidades en el siguiente link:\n",
        "\n",
        "https://colab.research.google.com/\n",
        "\n",
        "Como se puede observar, este mismo documento es un cuaderno (o también llamado Notebook) de Google Colab.\n",
        "\n",
        "Las notebooks tienen dos tipos de celdas:\n",
        "1. **Código**: En dónde podemos introducir código Python, ejecutarlo y ver el resultado.\n",
        "2. **Texto**: Podemos incluir como un documento, código HTML, LaTex, imágenes y demás.\n",
        "\n",
        "\n",
        "**Importante**: Para replicar el análisis de este notebook, deberán realizarse una copia del mismo (Menú: Archivo -> Guardar una copia en Drive)."
      ],
      "metadata": {
        "id": "VXfrBH8zoDSO"
      }
    },
    {
      "cell_type": "code",
      "source": [
        "from google.colab import drive\n",
        "drive.mount('/content/drive')"
      ],
      "metadata": {
        "id": "b8jPX1aUh79H"
      },
      "execution_count": null,
      "outputs": []
    },
    {
      "cell_type": "markdown",
      "source": [
        "## 1. Importación de bibliotecas\n",
        "\n",
        "En este primer paso importamos todas las bibliotecas necesarias para realizar nuestro procesamiento de datos. Numpy y Pandas para el manejo de datos y Matplotlib para gráficos.\n",
        "\n",
        "Generalmente es buena práctica utilizar alias para los nombres de estas bibliotecas (np, pd y plt) cuando se las importa."
      ],
      "metadata": {
        "id": "dtVfHu1ksnKV"
      }
    },
    {
      "cell_type": "code",
      "execution_count": null,
      "metadata": {
        "id": "0e6vAY_Sn-4A"
      },
      "outputs": [],
      "source": [
        "import numpy as np\n",
        "import pandas as pd\n",
        "import matplotlib.pyplot as plt\n",
        "from scipy import stats"
      ]
    },
    {
      "cell_type": "markdown",
      "source": [
        "## 2. Carga de datos\n",
        "\n",
        "Debido a que nuestro dataset a procesar es un archivo excel, utilizaremos la función *read_excel* de la biblioteca Pandas.\n",
        "\n",
        "Los detalles del uso de esta función se encuentran en el siguiente link:\n",
        "[pandas.read_excel](https://pandas.pydata.org/pandas-docs/stable/reference/api/pandas.read_excel.html)\n",
        "\n",
        "En este código de ejemplo, el archivo a leer se encuentra en una carpeta de Google Drive propia, que previamente hay que \"montar\" mediante el menú de la izquierda.\n",
        "En los parámetros que le pasamos a read_excel debemos poner el link de nuestra ubicación del archivo que nos guardamos en nuestro drive.\n",
        "\n",
        "Los datos leídos los cargamos en una variable que llamamos *transporte_datos*.\n",
        "\n",
        "Observese que mediante el parámetro sheet_name le indicamos que hoja del excel vamos a cargar.\n",
        "\n",
        "Se puede bajar y cargar el dataset (FINAL_HORAS_NOVIEMBRE_Nacional_DF.xlsx) del siguiente [link](https://docs.google.com/spreadsheets/d/18CtL-RQgNgEHLrjOKtlGOwPpfM6FgEt_/edit?usp=sharing&ouid=103939068473979530439&rtpof=true&sd=true).\n"
      ],
      "metadata": {
        "id": "4yhV1dWDqaVp"
      }
    },
    {
      "cell_type": "code",
      "source": [
        "# Atención: modificar la ubicación del archivo en donde lo tengan en su propio drive\n",
        "transporte_datos = pd.read_excel(\"/content/drive/MyDrive/Colab Notebooks/Simulacion/Datos/FINAL_HORAS_NOVIEMBRE_Nacional_DF.xlsx\", sheet_name='Datos')"
      ],
      "metadata": {
        "id": "D2a4wZ6zvZLX"
      },
      "execution_count": null,
      "outputs": []
    },
    {
      "cell_type": "markdown",
      "source": [
        "Con la instrucción *type* podemos ver que esta última varible se trata de un *DataFrame* de Pandas."
      ],
      "metadata": {
        "id": "b26wdAQpjQjJ"
      }
    },
    {
      "cell_type": "code",
      "source": [
        "type(transporte_datos)"
      ],
      "metadata": {
        "colab": {
          "base_uri": "https://localhost:8080/",
          "height": 204
        },
        "id": "wy9-x4smBAhX",
        "outputId": "e9679eaf-3fc3-4f5f-8227-b10c05334d7e"
      },
      "execution_count": null,
      "outputs": [
        {
          "output_type": "execute_result",
          "data": {
            "text/plain": [
              "pandas.core.frame.DataFrame"
            ],
            "text/html": [
              "<div style=\"max-width:800px; border: 1px solid var(--colab-border-color);\"><style>\n",
              "      pre.function-repr-contents {\n",
              "        overflow-x: auto;\n",
              "        padding: 8px 12px;\n",
              "        max-height: 500px;\n",
              "      }\n",
              "\n",
              "      pre.function-repr-contents.function-repr-contents-collapsed {\n",
              "        cursor: pointer;\n",
              "        max-height: 100px;\n",
              "      }\n",
              "    </style>\n",
              "    <pre style=\"white-space: initial; background:\n",
              "         var(--colab-secondary-surface-color); padding: 8px 12px;\n",
              "         border-bottom: 1px solid var(--colab-border-color);\"><b>pandas.core.frame.DataFrame</b><br/>def __init__(data=None, index: Axes | None=None, columns: Axes | None=None, dtype: Dtype | None=None, copy: bool | None=None) -&gt; None</pre><pre class=\"function-repr-contents function-repr-contents-collapsed\" style=\"\"><a class=\"filepath\" style=\"display:none\" href=\"#\">/usr/local/lib/python3.10/dist-packages/pandas/core/frame.py</a>Two-dimensional, size-mutable, potentially heterogeneous tabular data.\n",
              "\n",
              "Data structure also contains labeled axes (rows and columns).\n",
              "Arithmetic operations align on both row and column labels. Can be\n",
              "thought of as a dict-like container for Series objects. The primary\n",
              "pandas data structure.\n",
              "\n",
              "Parameters\n",
              "----------\n",
              "data : ndarray (structured or homogeneous), Iterable, dict, or DataFrame\n",
              "    Dict can contain Series, arrays, constants, dataclass or list-like objects. If\n",
              "    data is a dict, column order follows insertion-order. If a dict contains Series\n",
              "    which have an index defined, it is aligned by its index. This alignment also\n",
              "    occurs if data is a Series or a DataFrame itself. Alignment is done on\n",
              "    Series/DataFrame inputs.\n",
              "\n",
              "    If data is a list of dicts, column order follows insertion-order.\n",
              "\n",
              "index : Index or array-like\n",
              "    Index to use for resulting frame. Will default to RangeIndex if\n",
              "    no indexing information part of input data and no index provided.\n",
              "columns : Index or array-like\n",
              "    Column labels to use for resulting frame when data does not have them,\n",
              "    defaulting to RangeIndex(0, 1, 2, ..., n). If data contains column labels,\n",
              "    will perform column selection instead.\n",
              "dtype : dtype, default None\n",
              "    Data type to force. Only a single dtype is allowed. If None, infer.\n",
              "copy : bool or None, default None\n",
              "    Copy data from inputs.\n",
              "    For dict data, the default of None behaves like ``copy=True``.  For DataFrame\n",
              "    or 2d ndarray input, the default of None behaves like ``copy=False``.\n",
              "    If data is a dict containing one or more Series (possibly of different dtypes),\n",
              "    ``copy=False`` will ensure that these inputs are not copied.\n",
              "\n",
              "    .. versionchanged:: 1.3.0\n",
              "\n",
              "See Also\n",
              "--------\n",
              "DataFrame.from_records : Constructor from tuples, also record arrays.\n",
              "DataFrame.from_dict : From dicts of Series, arrays, or dicts.\n",
              "read_csv : Read a comma-separated values (csv) file into DataFrame.\n",
              "read_table : Read general delimited file into DataFrame.\n",
              "read_clipboard : Read text from clipboard into DataFrame.\n",
              "\n",
              "Notes\n",
              "-----\n",
              "Please reference the :ref:`User Guide &lt;basics.dataframe&gt;` for more information.\n",
              "\n",
              "Examples\n",
              "--------\n",
              "Constructing DataFrame from a dictionary.\n",
              "\n",
              "&gt;&gt;&gt; d = {&#x27;col1&#x27;: [1, 2], &#x27;col2&#x27;: [3, 4]}\n",
              "&gt;&gt;&gt; df = pd.DataFrame(data=d)\n",
              "&gt;&gt;&gt; df\n",
              "   col1  col2\n",
              "0     1     3\n",
              "1     2     4\n",
              "\n",
              "Notice that the inferred dtype is int64.\n",
              "\n",
              "&gt;&gt;&gt; df.dtypes\n",
              "col1    int64\n",
              "col2    int64\n",
              "dtype: object\n",
              "\n",
              "To enforce a single dtype:\n",
              "\n",
              "&gt;&gt;&gt; df = pd.DataFrame(data=d, dtype=np.int8)\n",
              "&gt;&gt;&gt; df.dtypes\n",
              "col1    int8\n",
              "col2    int8\n",
              "dtype: object\n",
              "\n",
              "Constructing DataFrame from a dictionary including Series:\n",
              "\n",
              "&gt;&gt;&gt; d = {&#x27;col1&#x27;: [0, 1, 2, 3], &#x27;col2&#x27;: pd.Series([2, 3], index=[2, 3])}\n",
              "&gt;&gt;&gt; pd.DataFrame(data=d, index=[0, 1, 2, 3])\n",
              "   col1  col2\n",
              "0     0   NaN\n",
              "1     1   NaN\n",
              "2     2   2.0\n",
              "3     3   3.0\n",
              "\n",
              "Constructing DataFrame from numpy ndarray:\n",
              "\n",
              "&gt;&gt;&gt; df2 = pd.DataFrame(np.array([[1, 2, 3], [4, 5, 6], [7, 8, 9]]),\n",
              "...                    columns=[&#x27;a&#x27;, &#x27;b&#x27;, &#x27;c&#x27;])\n",
              "&gt;&gt;&gt; df2\n",
              "   a  b  c\n",
              "0  1  2  3\n",
              "1  4  5  6\n",
              "2  7  8  9\n",
              "\n",
              "Constructing DataFrame from a numpy ndarray that has labeled columns:\n",
              "\n",
              "&gt;&gt;&gt; data = np.array([(1, 2, 3), (4, 5, 6), (7, 8, 9)],\n",
              "...                 dtype=[(&quot;a&quot;, &quot;i4&quot;), (&quot;b&quot;, &quot;i4&quot;), (&quot;c&quot;, &quot;i4&quot;)])\n",
              "&gt;&gt;&gt; df3 = pd.DataFrame(data, columns=[&#x27;c&#x27;, &#x27;a&#x27;])\n",
              "...\n",
              "&gt;&gt;&gt; df3\n",
              "   c  a\n",
              "0  3  1\n",
              "1  6  4\n",
              "2  9  7\n",
              "\n",
              "Constructing DataFrame from dataclass:\n",
              "\n",
              "&gt;&gt;&gt; from dataclasses import make_dataclass\n",
              "&gt;&gt;&gt; Point = make_dataclass(&quot;Point&quot;, [(&quot;x&quot;, int), (&quot;y&quot;, int)])\n",
              "&gt;&gt;&gt; pd.DataFrame([Point(0, 0), Point(0, 3), Point(2, 3)])\n",
              "   x  y\n",
              "0  0  0\n",
              "1  0  3\n",
              "2  2  3\n",
              "\n",
              "Constructing DataFrame from Series/DataFrame:\n",
              "\n",
              "&gt;&gt;&gt; ser = pd.Series([1, 2, 3], index=[&quot;a&quot;, &quot;b&quot;, &quot;c&quot;])\n",
              "&gt;&gt;&gt; df = pd.DataFrame(data=ser, index=[&quot;a&quot;, &quot;c&quot;])\n",
              "&gt;&gt;&gt; df\n",
              "   0\n",
              "a  1\n",
              "c  3\n",
              "\n",
              "&gt;&gt;&gt; df1 = pd.DataFrame([1, 2, 3], index=[&quot;a&quot;, &quot;b&quot;, &quot;c&quot;], columns=[&quot;x&quot;])\n",
              "&gt;&gt;&gt; df2 = pd.DataFrame(data=df1, index=[&quot;a&quot;, &quot;c&quot;])\n",
              "&gt;&gt;&gt; df2\n",
              "   x\n",
              "a  1\n",
              "c  3</pre>\n",
              "      <script>\n",
              "      if (google.colab.kernel.accessAllowed && google.colab.files && google.colab.files.view) {\n",
              "        for (const element of document.querySelectorAll('.filepath')) {\n",
              "          element.style.display = 'block'\n",
              "          element.onclick = (event) => {\n",
              "            event.preventDefault();\n",
              "            event.stopPropagation();\n",
              "            google.colab.files.view(element.textContent, 490);\n",
              "          };\n",
              "        }\n",
              "      }\n",
              "      for (const element of document.querySelectorAll('.function-repr-contents')) {\n",
              "        element.onclick = (event) => {\n",
              "          event.preventDefault();\n",
              "          event.stopPropagation();\n",
              "          element.classList.toggle('function-repr-contents-collapsed');\n",
              "        };\n",
              "      }\n",
              "      </script>\n",
              "      </div>"
            ]
          },
          "metadata": {},
          "execution_count": 26
        }
      ]
    },
    {
      "cell_type": "markdown",
      "source": [
        "Podemos pensar a un DataFrame como una típica tabla que alguna vez utilizamos en un motor de bases de datos o simplemente en Excel."
      ],
      "metadata": {
        "id": "iInw87qdBK2k"
      }
    },
    {
      "cell_type": "markdown",
      "source": [
        "![unnamed.png](data:image/png;base64,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)"
      ],
      "metadata": {
        "id": "quD3iIC_DOy5"
      }
    },
    {
      "cell_type": "markdown",
      "source": [
        "## 3. Análisis exploratorio de datos"
      ],
      "metadata": {
        "id": "Q8GcymvXszHL"
      }
    },
    {
      "cell_type": "markdown",
      "source": [
        "### Dimensionalidad"
      ],
      "metadata": {
        "id": "qNHcvF6aj4xQ"
      }
    },
    {
      "cell_type": "markdown",
      "source": [
        "Lo primero que podemos realizar con nuestro DataFrame es ver su \"dimensionalidad\" (Cantidad de filas por columnas).\n",
        "Para ello utilizamos el atributo [*shape*](https://pandas.pydata.org/docs/reference/api/pandas.DataFrame.shape.html) de Pandas."
      ],
      "metadata": {
        "id": "_AKfTupEEnyb"
      }
    },
    {
      "cell_type": "code",
      "source": [
        "transporte_datos.shape"
      ],
      "metadata": {
        "colab": {
          "base_uri": "https://localhost:8080/"
        },
        "id": "wUaHP3oXByT8",
        "outputId": "ae6e183e-a6c2-4bf7-f942-759ef85ad693"
      },
      "execution_count": null,
      "outputs": [
        {
          "output_type": "execute_result",
          "data": {
            "text/plain": [
              "(43422, 10)"
            ]
          },
          "metadata": {},
          "execution_count": 8
        }
      ]
    },
    {
      "cell_type": "markdown",
      "source": [
        "Podemos ver el contenido de los primeros registros del DataFrame mediante la función  [*head()*](https://pandas.pydata.org/docs/reference/api/pandas.DataFrame.head.html)\n",
        "\n",
        "Podemos pasar como parámetro la cantidad de primeros x registros a ver. En el siguiente ejemplo, los 10 primeros:"
      ],
      "metadata": {
        "id": "J5yy3VZzFQMa"
      }
    },
    {
      "cell_type": "code",
      "source": [
        "transporte_datos.head(10)"
      ],
      "metadata": {
        "colab": {
          "base_uri": "https://localhost:8080/",
          "height": 363
        },
        "id": "TneFlWlIpr-E",
        "outputId": "1176ba65-b9bc-4eb0-ad16-f547992b5794"
      },
      "execution_count": null,
      "outputs": [
        {
          "output_type": "execute_result",
          "data": {
            "text/plain": [
              "  AMBA GRUPO         DIA                                  EMPRESA      LINEA  \\\n",
              "0   SI    DF  13/11/2023    D.O.T.A. S.A. DE TRANSPORTE AUTOMOTOR   LINEA 44   \n",
              "1   SI    DF  16/11/2023           NUEVOS RUMBOS S.A.T.A.C.I.F.I.  LINEA 132   \n",
              "2   SI    DF  17/11/2023                 COLECTIVEROS UNIDOS S.A.  LINEA_099   \n",
              "3   SI    DF  19/11/2023    LINEA DE MICROOMNIBUS 47 S.A.T.C.F.I.   LINEA 47   \n",
              "4   SI    DF  10/11/2023    M.O.D.O. S.A. DE TRANSPORTE AUTOMOTOR  LINEA 151   \n",
              "5   SI    DF  19/11/2023    M.O.D.O. S.A. DE TRANSPORTE AUTOMOTOR   LINEA 90   \n",
              "6   SI    DF  08/11/2023                 COLECTIVEROS UNIDOS S.A.  LINEA_099   \n",
              "7   SI    DF  11/11/2023  MICROOMNIBUS BARRANCAS DE BELGRANO S.A.  LINEA 118   \n",
              "8   SI    DF  10/11/2023    LINEA DE MICROOMNIBUS 47 S.A.T.C.F.I.   LINEA 47   \n",
              "9   SI    DF  23/11/2023         TRANSPORTES SOL DE MAYO C.I.S.A.    LINEA 4   \n",
              "\n",
              "   INTERNO  HORAS  SUMA_KM  SUMA_MINUTOS JURISDICCION  \n",
              "0        4   0.00     0.19             0     NACIONAL  \n",
              "1      108   0.00     0.07             0     NACIONAL  \n",
              "2     4546   0.00     0.05             0     NACIONAL  \n",
              "3      107   0.00     0.04             0     NACIONAL  \n",
              "4      419   0.02     0.33             1     NACIONAL  \n",
              "5      468   0.02     0.07             1     NACIONAL  \n",
              "6     4569   0.02     0.49             1     NACIONAL  \n",
              "7       36   0.02     0.06             1     NACIONAL  \n",
              "8      143   0.03     2.12             2     NACIONAL  \n",
              "9        4   0.03     0.27             2     NACIONAL  "
            ],
            "text/html": [
              "\n",
              "  <div id=\"df-defb02ca-0435-44ab-aefb-80059fced3e2\" class=\"colab-df-container\">\n",
              "    <div>\n",
              "<style scoped>\n",
              "    .dataframe tbody tr th:only-of-type {\n",
              "        vertical-align: middle;\n",
              "    }\n",
              "\n",
              "    .dataframe tbody tr th {\n",
              "        vertical-align: top;\n",
              "    }\n",
              "\n",
              "    .dataframe thead th {\n",
              "        text-align: right;\n",
              "    }\n",
              "</style>\n",
              "<table border=\"1\" class=\"dataframe\">\n",
              "  <thead>\n",
              "    <tr style=\"text-align: right;\">\n",
              "      <th></th>\n",
              "      <th>AMBA</th>\n",
              "      <th>GRUPO</th>\n",
              "      <th>DIA</th>\n",
              "      <th>EMPRESA</th>\n",
              "      <th>LINEA</th>\n",
              "      <th>INTERNO</th>\n",
              "      <th>HORAS</th>\n",
              "      <th>SUMA_KM</th>\n",
              "      <th>SUMA_MINUTOS</th>\n",
              "      <th>JURISDICCION</th>\n",
              "    </tr>\n",
              "  </thead>\n",
              "  <tbody>\n",
              "    <tr>\n",
              "      <th>0</th>\n",
              "      <td>SI</td>\n",
              "      <td>DF</td>\n",
              "      <td>13/11/2023</td>\n",
              "      <td>D.O.T.A. S.A. DE TRANSPORTE AUTOMOTOR</td>\n",
              "      <td>LINEA 44</td>\n",
              "      <td>4</td>\n",
              "      <td>0.00</td>\n",
              "      <td>0.19</td>\n",
              "      <td>0</td>\n",
              "      <td>NACIONAL</td>\n",
              "    </tr>\n",
              "    <tr>\n",
              "      <th>1</th>\n",
              "      <td>SI</td>\n",
              "      <td>DF</td>\n",
              "      <td>16/11/2023</td>\n",
              "      <td>NUEVOS RUMBOS S.A.T.A.C.I.F.I.</td>\n",
              "      <td>LINEA 132</td>\n",
              "      <td>108</td>\n",
              "      <td>0.00</td>\n",
              "      <td>0.07</td>\n",
              "      <td>0</td>\n",
              "      <td>NACIONAL</td>\n",
              "    </tr>\n",
              "    <tr>\n",
              "      <th>2</th>\n",
              "      <td>SI</td>\n",
              "      <td>DF</td>\n",
              "      <td>17/11/2023</td>\n",
              "      <td>COLECTIVEROS UNIDOS S.A.</td>\n",
              "      <td>LINEA_099</td>\n",
              "      <td>4546</td>\n",
              "      <td>0.00</td>\n",
              "      <td>0.05</td>\n",
              "      <td>0</td>\n",
              "      <td>NACIONAL</td>\n",
              "    </tr>\n",
              "    <tr>\n",
              "      <th>3</th>\n",
              "      <td>SI</td>\n",
              "      <td>DF</td>\n",
              "      <td>19/11/2023</td>\n",
              "      <td>LINEA DE MICROOMNIBUS 47 S.A.T.C.F.I.</td>\n",
              "      <td>LINEA 47</td>\n",
              "      <td>107</td>\n",
              "      <td>0.00</td>\n",
              "      <td>0.04</td>\n",
              "      <td>0</td>\n",
              "      <td>NACIONAL</td>\n",
              "    </tr>\n",
              "    <tr>\n",
              "      <th>4</th>\n",
              "      <td>SI</td>\n",
              "      <td>DF</td>\n",
              "      <td>10/11/2023</td>\n",
              "      <td>M.O.D.O. S.A. DE TRANSPORTE AUTOMOTOR</td>\n",
              "      <td>LINEA 151</td>\n",
              "      <td>419</td>\n",
              "      <td>0.02</td>\n",
              "      <td>0.33</td>\n",
              "      <td>1</td>\n",
              "      <td>NACIONAL</td>\n",
              "    </tr>\n",
              "    <tr>\n",
              "      <th>5</th>\n",
              "      <td>SI</td>\n",
              "      <td>DF</td>\n",
              "      <td>19/11/2023</td>\n",
              "      <td>M.O.D.O. S.A. DE TRANSPORTE AUTOMOTOR</td>\n",
              "      <td>LINEA 90</td>\n",
              "      <td>468</td>\n",
              "      <td>0.02</td>\n",
              "      <td>0.07</td>\n",
              "      <td>1</td>\n",
              "      <td>NACIONAL</td>\n",
              "    </tr>\n",
              "    <tr>\n",
              "      <th>6</th>\n",
              "      <td>SI</td>\n",
              "      <td>DF</td>\n",
              "      <td>08/11/2023</td>\n",
              "      <td>COLECTIVEROS UNIDOS S.A.</td>\n",
              "      <td>LINEA_099</td>\n",
              "      <td>4569</td>\n",
              "      <td>0.02</td>\n",
              "      <td>0.49</td>\n",
              "      <td>1</td>\n",
              "      <td>NACIONAL</td>\n",
              "    </tr>\n",
              "    <tr>\n",
              "      <th>7</th>\n",
              "      <td>SI</td>\n",
              "      <td>DF</td>\n",
              "      <td>11/11/2023</td>\n",
              "      <td>MICROOMNIBUS BARRANCAS DE BELGRANO S.A.</td>\n",
              "      <td>LINEA 118</td>\n",
              "      <td>36</td>\n",
              "      <td>0.02</td>\n",
              "      <td>0.06</td>\n",
              "      <td>1</td>\n",
              "      <td>NACIONAL</td>\n",
              "    </tr>\n",
              "    <tr>\n",
              "      <th>8</th>\n",
              "      <td>SI</td>\n",
              "      <td>DF</td>\n",
              "      <td>10/11/2023</td>\n",
              "      <td>LINEA DE MICROOMNIBUS 47 S.A.T.C.F.I.</td>\n",
              "      <td>LINEA 47</td>\n",
              "      <td>143</td>\n",
              "      <td>0.03</td>\n",
              "      <td>2.12</td>\n",
              "      <td>2</td>\n",
              "      <td>NACIONAL</td>\n",
              "    </tr>\n",
              "    <tr>\n",
              "      <th>9</th>\n",
              "      <td>SI</td>\n",
              "      <td>DF</td>\n",
              "      <td>23/11/2023</td>\n",
              "      <td>TRANSPORTES SOL DE MAYO C.I.S.A.</td>\n",
              "      <td>LINEA 4</td>\n",
              "      <td>4</td>\n",
              "      <td>0.03</td>\n",
              "      <td>0.27</td>\n",
              "      <td>2</td>\n",
              "      <td>NACIONAL</td>\n",
              "    </tr>\n",
              "  </tbody>\n",
              "</table>\n",
              "</div>\n",
              "    <div class=\"colab-df-buttons\">\n",
              "\n",
              "  <div class=\"colab-df-container\">\n",
              "    <button class=\"colab-df-convert\" onclick=\"convertToInteractive('df-defb02ca-0435-44ab-aefb-80059fced3e2')\"\n",
              "            title=\"Convert this dataframe to an interactive table.\"\n",
              "            style=\"display:none;\">\n",
              "\n",
              "  <svg xmlns=\"http://www.w3.org/2000/svg\" height=\"24px\" viewBox=\"0 -960 960 960\">\n",
              "    <path d=\"M120-120v-720h720v720H120Zm60-500h600v-160H180v160Zm220 220h160v-160H400v160Zm0 220h160v-160H400v160ZM180-400h160v-160H180v160Zm440 0h160v-160H620v160ZM180-180h160v-160H180v160Zm440 0h160v-160H620v160Z\"/>\n",
              "  </svg>\n",
              "    </button>\n",
              "\n",
              "  <style>\n",
              "    .colab-df-container {\n",
              "      display:flex;\n",
              "      gap: 12px;\n",
              "    }\n",
              "\n",
              "    .colab-df-convert {\n",
              "      background-color: #E8F0FE;\n",
              "      border: none;\n",
              "      border-radius: 50%;\n",
              "      cursor: pointer;\n",
              "      display: none;\n",
              "      fill: #1967D2;\n",
              "      height: 32px;\n",
              "      padding: 0 0 0 0;\n",
              "      width: 32px;\n",
              "    }\n",
              "\n",
              "    .colab-df-convert:hover {\n",
              "      background-color: #E2EBFA;\n",
              "      box-shadow: 0px 1px 2px rgba(60, 64, 67, 0.3), 0px 1px 3px 1px rgba(60, 64, 67, 0.15);\n",
              "      fill: #174EA6;\n",
              "    }\n",
              "\n",
              "    .colab-df-buttons div {\n",
              "      margin-bottom: 4px;\n",
              "    }\n",
              "\n",
              "    [theme=dark] .colab-df-convert {\n",
              "      background-color: #3B4455;\n",
              "      fill: #D2E3FC;\n",
              "    }\n",
              "\n",
              "    [theme=dark] .colab-df-convert:hover {\n",
              "      background-color: #434B5C;\n",
              "      box-shadow: 0px 1px 3px 1px rgba(0, 0, 0, 0.15);\n",
              "      filter: drop-shadow(0px 1px 2px rgba(0, 0, 0, 0.3));\n",
              "      fill: #FFFFFF;\n",
              "    }\n",
              "  </style>\n",
              "\n",
              "    <script>\n",
              "      const buttonEl =\n",
              "        document.querySelector('#df-defb02ca-0435-44ab-aefb-80059fced3e2 button.colab-df-convert');\n",
              "      buttonEl.style.display =\n",
              "        google.colab.kernel.accessAllowed ? 'block' : 'none';\n",
              "\n",
              "      async function convertToInteractive(key) {\n",
              "        const element = document.querySelector('#df-defb02ca-0435-44ab-aefb-80059fced3e2');\n",
              "        const dataTable =\n",
              "          await google.colab.kernel.invokeFunction('convertToInteractive',\n",
              "                                                    [key], {});\n",
              "        if (!dataTable) return;\n",
              "\n",
              "        const docLinkHtml = 'Like what you see? Visit the ' +\n",
              "          '<a target=\"_blank\" href=https://colab.research.google.com/notebooks/data_table.ipynb>data table notebook</a>'\n",
              "          + ' to learn more about interactive tables.';\n",
              "        element.innerHTML = '';\n",
              "        dataTable['output_type'] = 'display_data';\n",
              "        await google.colab.output.renderOutput(dataTable, element);\n",
              "        const docLink = document.createElement('div');\n",
              "        docLink.innerHTML = docLinkHtml;\n",
              "        element.appendChild(docLink);\n",
              "      }\n",
              "    </script>\n",
              "  </div>\n",
              "\n",
              "\n",
              "<div id=\"df-49b0c345-313b-4f83-aaaf-32da47513a64\">\n",
              "  <button class=\"colab-df-quickchart\" onclick=\"quickchart('df-49b0c345-313b-4f83-aaaf-32da47513a64')\"\n",
              "            title=\"Suggest charts\"\n",
              "            style=\"display:none;\">\n",
              "\n",
              "<svg xmlns=\"http://www.w3.org/2000/svg\" height=\"24px\"viewBox=\"0 0 24 24\"\n",
              "     width=\"24px\">\n",
              "    <g>\n",
              "        <path d=\"M19 3H5c-1.1 0-2 .9-2 2v14c0 1.1.9 2 2 2h14c1.1 0 2-.9 2-2V5c0-1.1-.9-2-2-2zM9 17H7v-7h2v7zm4 0h-2V7h2v10zm4 0h-2v-4h2v4z\"/>\n",
              "    </g>\n",
              "</svg>\n",
              "  </button>\n",
              "\n",
              "<style>\n",
              "  .colab-df-quickchart {\n",
              "      --bg-color: #E8F0FE;\n",
              "      --fill-color: #1967D2;\n",
              "      --hover-bg-color: #E2EBFA;\n",
              "      --hover-fill-color: #174EA6;\n",
              "      --disabled-fill-color: #AAA;\n",
              "      --disabled-bg-color: #DDD;\n",
              "  }\n",
              "\n",
              "  [theme=dark] .colab-df-quickchart {\n",
              "      --bg-color: #3B4455;\n",
              "      --fill-color: #D2E3FC;\n",
              "      --hover-bg-color: #434B5C;\n",
              "      --hover-fill-color: #FFFFFF;\n",
              "      --disabled-bg-color: #3B4455;\n",
              "      --disabled-fill-color: #666;\n",
              "  }\n",
              "\n",
              "  .colab-df-quickchart {\n",
              "    background-color: var(--bg-color);\n",
              "    border: none;\n",
              "    border-radius: 50%;\n",
              "    cursor: pointer;\n",
              "    display: none;\n",
              "    fill: var(--fill-color);\n",
              "    height: 32px;\n",
              "    padding: 0;\n",
              "    width: 32px;\n",
              "  }\n",
              "\n",
              "  .colab-df-quickchart:hover {\n",
              "    background-color: var(--hover-bg-color);\n",
              "    box-shadow: 0 1px 2px rgba(60, 64, 67, 0.3), 0 1px 3px 1px rgba(60, 64, 67, 0.15);\n",
              "    fill: var(--button-hover-fill-color);\n",
              "  }\n",
              "\n",
              "  .colab-df-quickchart-complete:disabled,\n",
              "  .colab-df-quickchart-complete:disabled:hover {\n",
              "    background-color: var(--disabled-bg-color);\n",
              "    fill: var(--disabled-fill-color);\n",
              "    box-shadow: none;\n",
              "  }\n",
              "\n",
              "  .colab-df-spinner {\n",
              "    border: 2px solid var(--fill-color);\n",
              "    border-color: transparent;\n",
              "    border-bottom-color: var(--fill-color);\n",
              "    animation:\n",
              "      spin 1s steps(1) infinite;\n",
              "  }\n",
              "\n",
              "  @keyframes spin {\n",
              "    0% {\n",
              "      border-color: transparent;\n",
              "      border-bottom-color: var(--fill-color);\n",
              "      border-left-color: var(--fill-color);\n",
              "    }\n",
              "    20% {\n",
              "      border-color: transparent;\n",
              "      border-left-color: var(--fill-color);\n",
              "      border-top-color: var(--fill-color);\n",
              "    }\n",
              "    30% {\n",
              "      border-color: transparent;\n",
              "      border-left-color: var(--fill-color);\n",
              "      border-top-color: var(--fill-color);\n",
              "      border-right-color: var(--fill-color);\n",
              "    }\n",
              "    40% {\n",
              "      border-color: transparent;\n",
              "      border-right-color: var(--fill-color);\n",
              "      border-top-color: var(--fill-color);\n",
              "    }\n",
              "    60% {\n",
              "      border-color: transparent;\n",
              "      border-right-color: var(--fill-color);\n",
              "    }\n",
              "    80% {\n",
              "      border-color: transparent;\n",
              "      border-right-color: var(--fill-color);\n",
              "      border-bottom-color: var(--fill-color);\n",
              "    }\n",
              "    90% {\n",
              "      border-color: transparent;\n",
              "      border-bottom-color: var(--fill-color);\n",
              "    }\n",
              "  }\n",
              "</style>\n",
              "\n",
              "  <script>\n",
              "    async function quickchart(key) {\n",
              "      const quickchartButtonEl =\n",
              "        document.querySelector('#' + key + ' button');\n",
              "      quickchartButtonEl.disabled = true;  // To prevent multiple clicks.\n",
              "      quickchartButtonEl.classList.add('colab-df-spinner');\n",
              "      try {\n",
              "        const charts = await google.colab.kernel.invokeFunction(\n",
              "            'suggestCharts', [key], {});\n",
              "      } catch (error) {\n",
              "        console.error('Error during call to suggestCharts:', error);\n",
              "      }\n",
              "      quickchartButtonEl.classList.remove('colab-df-spinner');\n",
              "      quickchartButtonEl.classList.add('colab-df-quickchart-complete');\n",
              "    }\n",
              "    (() => {\n",
              "      let quickchartButtonEl =\n",
              "        document.querySelector('#df-49b0c345-313b-4f83-aaaf-32da47513a64 button');\n",
              "      quickchartButtonEl.style.display =\n",
              "        google.colab.kernel.accessAllowed ? 'block' : 'none';\n",
              "    })();\n",
              "  </script>\n",
              "</div>\n",
              "    </div>\n",
              "  </div>\n"
            ],
            "application/vnd.google.colaboratory.intrinsic+json": {
              "type": "dataframe",
              "variable_name": "transporte_datos",
              "summary": "{\n  \"name\": \"transporte_datos\",\n  \"rows\": 43422,\n  \"fields\": [\n    {\n      \"column\": \"AMBA\",\n      \"properties\": {\n        \"dtype\": \"category\",\n        \"num_unique_values\": 1,\n        \"samples\": [\n          \"SI\"\n        ],\n        \"semantic_type\": \"\",\n        \"description\": \"\"\n      }\n    },\n    {\n      \"column\": \"GRUPO\",\n      \"properties\": {\n        \"dtype\": \"category\",\n        \"num_unique_values\": 1,\n        \"samples\": [\n          \"DF\"\n        ],\n        \"semantic_type\": \"\",\n        \"description\": \"\"\n      }\n    },\n    {\n      \"column\": \"DIA\",\n      \"properties\": {\n        \"dtype\": \"object\",\n        \"num_unique_values\": 30,\n        \"samples\": [\n          \"02/11/2023\"\n        ],\n        \"semantic_type\": \"\",\n        \"description\": \"\"\n      }\n    },\n    {\n      \"column\": \"EMPRESA\",\n      \"properties\": {\n        \"dtype\": \"category\",\n        \"num_unique_values\": 25,\n        \"samples\": [\n          \"LA NUEVA METROPOL S.A.\"\n        ],\n        \"semantic_type\": \"\",\n        \"description\": \"\"\n      }\n    },\n    {\n      \"column\": \"LINEA\",\n      \"properties\": {\n        \"dtype\": \"category\",\n        \"num_unique_values\": 32,\n        \"samples\": [\n          \"LINEA 26\"\n        ],\n        \"semantic_type\": \"\",\n        \"description\": \"\"\n      }\n    },\n    {\n      \"column\": \"INTERNO\",\n      \"properties\": {\n        \"dtype\": \"number\",\n        \"std\": 2441,\n        \"min\": 1,\n        \"max\": 9249,\n        \"num_unique_values\": 1012,\n        \"samples\": [\n          1306\n        ],\n        \"semantic_type\": \"\",\n        \"description\": \"\"\n      }\n    },\n    {\n      \"column\": \"HORAS\",\n      \"properties\": {\n        \"dtype\": \"number\",\n        \"std\": 4.142236837600402,\n        \"min\": 0.0,\n        \"max\": 24.0,\n        \"num_unique_values\": 1436,\n        \"samples\": [\n          9.98\n        ],\n        \"semantic_type\": \"\",\n        \"description\": \"\"\n      }\n    },\n    {\n      \"column\": \"SUMA_KM\",\n      \"properties\": {\n        \"dtype\": \"number\",\n        \"std\": 56.599437914933304,\n        \"min\": 0.01,\n        \"max\": 434.52,\n        \"num_unique_values\": 17966,\n        \"samples\": [\n          338.17\n        ],\n        \"semantic_type\": \"\",\n        \"description\": \"\"\n      }\n    },\n    {\n      \"column\": \"SUMA_MINUTOS\",\n      \"properties\": {\n        \"dtype\": \"number\",\n        \"std\": 248,\n        \"min\": 0,\n        \"max\": 1440,\n        \"num_unique_values\": 1436,\n        \"samples\": [\n          599\n        ],\n        \"semantic_type\": \"\",\n        \"description\": \"\"\n      }\n    },\n    {\n      \"column\": \"JURISDICCION\",\n      \"properties\": {\n        \"dtype\": \"category\",\n        \"num_unique_values\": 1,\n        \"samples\": [\n          \"NACIONAL\"\n        ],\n        \"semantic_type\": \"\",\n        \"description\": \"\"\n      }\n    }\n  ]\n}"
            }
          },
          "metadata": {},
          "execution_count": 25
        }
      ]
    },
    {
      "cell_type": "markdown",
      "source": [
        "### Tipos de datos\n",
        "Oberservamos los tipos de datos de cada una de las columnas con el atributo [*dtypes*](https://pandas.pydata.org/docs/reference/api/pandas.DataFrame.dtypes.html)."
      ],
      "metadata": {
        "id": "g4gdD-n5GQ4T"
      }
    },
    {
      "cell_type": "code",
      "source": [
        "transporte_datos.dtypes"
      ],
      "metadata": {
        "colab": {
          "base_uri": "https://localhost:8080/"
        },
        "id": "J9wxujfI_6iK",
        "outputId": "3cc1f342-c18f-48ea-fc25-32c52658fef3"
      },
      "execution_count": null,
      "outputs": [
        {
          "output_type": "execute_result",
          "data": {
            "text/plain": [
              "AMBA             object\n",
              "GRUPO            object\n",
              "DIA              object\n",
              "EMPRESA          object\n",
              "LINEA            object\n",
              "INTERNO           int64\n",
              "HORAS           float64\n",
              "SUMA_KM         float64\n",
              "SUMA_MINUTOS      int64\n",
              "JURISDICCION     object\n",
              "dtype: object"
            ]
          },
          "metadata": {},
          "execution_count": 9
        }
      ]
    },
    {
      "cell_type": "markdown",
      "source": [
        "Para este trabajo, nos interesa la columna \"HORAS\" y vemos que la misma es de tipo float.\n",
        "\n",
        "Si la columna que queremos trabajar fuese de tipo \"object\" deberíamos previamente converirlo a tipo integer o floar mediante la función [*astype*](https://pandas.pydata.org/docs/reference/api/pandas.DataFrame.astype.html)."
      ],
      "metadata": {
        "id": "HxnGj3l5Gl0g"
      }
    },
    {
      "cell_type": "markdown",
      "source": [
        "### Inspección de datos nulos\n",
        "\n",
        "Una forma de verificar si el DataFrame contiene datos nulos es mediante la función isnull(). Si agregarmos sum() obtenemos el total de nulos por columnas.\n",
        "En nuestro dataset observamos que no tenemos datos nulos."
      ],
      "metadata": {
        "id": "n8cNw7DEkCse"
      }
    },
    {
      "cell_type": "code",
      "source": [
        "transporte_datos.isnull().sum()"
      ],
      "metadata": {
        "colab": {
          "base_uri": "https://localhost:8080/"
        },
        "id": "oEeOxtXujofy",
        "outputId": "73ef09f8-ba9d-4d21-c594-5527270afc8c"
      },
      "execution_count": null,
      "outputs": [
        {
          "output_type": "execute_result",
          "data": {
            "text/plain": [
              "AMBA            0\n",
              "GRUPO           0\n",
              "DIA             0\n",
              "EMPRESA         0\n",
              "LINEA           0\n",
              "INTERNO         0\n",
              "HORAS           0\n",
              "SUMA_KM         0\n",
              "SUMA_MINUTOS    0\n",
              "JURISDICCION    0\n",
              "dtype: int64"
            ]
          },
          "metadata": {},
          "execution_count": 37
        }
      ]
    },
    {
      "cell_type": "markdown",
      "source": [
        "### Acceso a datos\n",
        "\n",
        "Para acceder a los datos de una columna específica de un DataFrame podemos utilizar el operador punto (.), es decir ponemos el nombre del DF, más un . y el nombre de la columna. De esta manera:"
      ],
      "metadata": {
        "id": "3tKru_pQhbXk"
      }
    },
    {
      "cell_type": "code",
      "source": [
        "transporte_datos.HORAS"
      ],
      "metadata": {
        "colab": {
          "base_uri": "https://localhost:8080/"
        },
        "id": "PcuVoMBIhHg8",
        "outputId": "67c49b14-9c9b-47f9-f3db-b0936a33dabc"
      },
      "execution_count": null,
      "outputs": [
        {
          "output_type": "execute_result",
          "data": {
            "text/plain": [
              "0         0.00\n",
              "1         0.00\n",
              "2         0.00\n",
              "3         0.00\n",
              "4         0.02\n",
              "         ...  \n",
              "43417    23.98\n",
              "43418    23.98\n",
              "43419    23.98\n",
              "43420    23.98\n",
              "43421    24.00\n",
              "Name: HORAS, Length: 43422, dtype: float64"
            ]
          },
          "metadata": {},
          "execution_count": 34
        }
      ]
    },
    {
      "cell_type": "markdown",
      "source": [
        "Esto último lo podemos hacer si el nombre de la columna no tiene espacios en su nombre. Si fuese así, podemos acceder a los datos de la columna mediante el uso de corchetes []., De esta manera:\n"
      ],
      "metadata": {
        "id": "p-0RKBXTiOgh"
      }
    },
    {
      "cell_type": "code",
      "source": [
        "transporte_datos['HORAS']"
      ],
      "metadata": {
        "colab": {
          "base_uri": "https://localhost:8080/"
        },
        "id": "NfWnjWSUiTQK",
        "outputId": "e7b9c3f2-bf85-4875-d149-3a57d695b7c6"
      },
      "execution_count": null,
      "outputs": [
        {
          "output_type": "execute_result",
          "data": {
            "text/plain": [
              "0         0.00\n",
              "1         0.00\n",
              "2         0.00\n",
              "3         0.00\n",
              "4         0.02\n",
              "         ...  \n",
              "43417    23.98\n",
              "43418    23.98\n",
              "43419    23.98\n",
              "43420    23.98\n",
              "43421    24.00\n",
              "Name: HORAS, Length: 43422, dtype: float64"
            ]
          },
          "metadata": {},
          "execution_count": 35
        }
      ]
    },
    {
      "cell_type": "markdown",
      "source": [
        "## 4. Visualización de Datos"
      ],
      "metadata": {
        "id": "Mix43al9Ht4c"
      }
    },
    {
      "cell_type": "markdown",
      "source": [
        "Es buena práctica recurrir a una visualización para obtener un panorama de la distribución de nuestros datos.\n",
        "\n",
        "Recurrimos a la biblioteca [Matplotlib](https://matplotlib.org/) para graficar un histograma o gráfico de frecuencia.\n",
        "\n",
        "Para construir este gráfico utilizamos la función hist de Matplotlib y pasamos como parámetros la columna con los valores que queremos contar (HORAS) y la cantidad de rangos o bins que consideramos para nuestros datos. En este ejemplo tomamos 200.\n"
      ],
      "metadata": {
        "id": "Rx4ugsC7H7kT"
      }
    },
    {
      "cell_type": "code",
      "source": [
        "# Histograma de HORAS\n",
        "plt.title(\"Histograma\")\n",
        "plt.xlabel(\"Horas\")\n",
        "plt.ylabel(\"Frecuencia\")\n",
        "plt.hist(transporte_datos.HORAS, bins=200)\n",
        "plt.show()"
      ],
      "metadata": {
        "colab": {
          "base_uri": "https://localhost:8080/",
          "height": 472
        },
        "id": "4YN8KJp-wemt",
        "outputId": "b652a647-0308-42a4-9191-05eebe1862ac"
      },
      "execution_count": null,
      "outputs": [
        {
          "output_type": "display_data",
          "data": {
            "text/plain": [
              "<Figure size 640x480 with 1 Axes>"
            ],
            "image/png": "[encoded data removed]"
          },
          "metadata": {}
        }
      ]
    },
    {
      "cell_type": "markdown",
      "source": [
        "## 5. Ajuste de Datos"
      ],
      "metadata": {
        "id": "vSULKWQzyof9"
      }
    },
    {
      "cell_type": "markdown",
      "source": [
        "Para poder ajustar nuestros datos a una fdp conocida es necesario que previamente instalemos en nuestro entorno Colab el paquete de la [biblioteca Fitter](https://fitter.readthedocs.io/en/latest/).\n",
        "\n",
        "La instalación se realiza fácilmente mediante la instrucción [*pip install*](https://pip.pypa.io/en/stable/cli/pip_install/).\n",
        "\n",
        "Una vez instalado el paquete, se nos pedirá reiniciar el entorno de Colab."
      ],
      "metadata": {
        "id": "TVe44hyTKRhP"
      }
    },
    {
      "cell_type": "code",
      "metadata": {
        "id": "aFNPO8q3cYtM",
        "colab": {
          "base_uri": "https://localhost:8080/"
        },
        "outputId": "cc436739-b0ff-4d63-a962-935f9368ba5b"
      },
      "source": [
        "pip install fitter"
      ],
      "execution_count": null,
      "outputs": [
        {
          "output_type": "stream",
          "name": "stdout",
          "text": [
            "Requirement already satisfied: fitter in /usr/local/lib/python3.10/dist-packages (1.7.0)\n",
            "Requirement already satisfied: click<9.0.0,>=8.1.6 in /usr/local/lib/python3.10/dist-packages (from fitter) (8.1.7)\n",
            "Requirement already satisfied: joblib<2.0.0,>=1.3.1 in /usr/local/lib/python3.10/dist-packages (from fitter) (1.3.2)\n",
            "Requirement already satisfied: loguru<0.8.0,>=0.7.2 in /usr/local/lib/python3.10/dist-packages (from fitter) (0.7.2)\n",
            "Requirement already satisfied: matplotlib<4.0.0,>=3.7.2 in /usr/local/lib/python3.10/dist-packages (from fitter) (3.8.4)\n",
            "Requirement already satisfied: numpy<2.0.0,>=1.20.0 in /usr/local/lib/python3.10/dist-packages (from fitter) (1.25.2)\n",
            "Requirement already satisfied: pandas<3.0.0,>=0.23.4 in /usr/local/lib/python3.10/dist-packages (from fitter) (2.0.3)\n",
            "Requirement already satisfied: rich-click<2.0.0,>=1.7.2 in /usr/local/lib/python3.10/dist-packages (from fitter) (1.7.4)\n",
            "Requirement already satisfied: scipy<2.0.0,>=0.18.0 in /usr/local/lib/python3.10/dist-packages (from fitter) (1.11.4)\n",
            "Requirement already satisfied: tqdm<5.0.0,>=4.65.1 in /usr/local/lib/python3.10/dist-packages (from fitter) (4.66.2)\n",
            "Requirement already satisfied: contourpy>=1.0.1 in /usr/local/lib/python3.10/dist-packages (from matplotlib<4.0.0,>=3.7.2->fitter) (1.2.0)\n",
            "Requirement already satisfied: cycler>=0.10 in /usr/local/lib/python3.10/dist-packages (from matplotlib<4.0.0,>=3.7.2->fitter) (0.12.1)\n",
            "Requirement already satisfied: fonttools>=4.22.0 in /usr/local/lib/python3.10/dist-packages (from matplotlib<4.0.0,>=3.7.2->fitter) (4.50.0)\n",
            "Requirement already satisfied: kiwisolver>=1.3.1 in /usr/local/lib/python3.10/dist-packages (from matplotlib<4.0.0,>=3.7.2->fitter) (1.4.5)\n",
            "Requirement already satisfied: packaging>=20.0 in /usr/local/lib/python3.10/dist-packages (from matplotlib<4.0.0,>=3.7.2->fitter) (24.0)\n",
            "Requirement already satisfied: pillow>=8 in /usr/local/lib/python3.10/dist-packages (from matplotlib<4.0.0,>=3.7.2->fitter) (9.4.0)\n",
            "Requirement already satisfied: pyparsing>=2.3.1 in /usr/local/lib/python3.10/dist-packages (from matplotlib<4.0.0,>=3.7.2->fitter) (3.1.2)\n",
            "Requirement already satisfied: python-dateutil>=2.7 in /usr/local/lib/python3.10/dist-packages (from matplotlib<4.0.0,>=3.7.2->fitter) (2.8.2)\n",
            "Requirement already satisfied: pytz>=2020.1 in /usr/local/lib/python3.10/dist-packages (from pandas<3.0.0,>=0.23.4->fitter) (2023.4)\n",
            "Requirement already satisfied: tzdata>=2022.1 in /usr/local/lib/python3.10/dist-packages (from pandas<3.0.0,>=0.23.4->fitter) (2024.1)\n",
            "Requirement already satisfied: rich>=10.7.0 in /usr/local/lib/python3.10/dist-packages (from rich-click<2.0.0,>=1.7.2->fitter) (13.7.1)\n",
            "Requirement already satisfied: typing-extensions in /usr/local/lib/python3.10/dist-packages (from rich-click<2.0.0,>=1.7.2->fitter) (4.10.0)\n",
            "Requirement already satisfied: six>=1.5 in /usr/local/lib/python3.10/dist-packages (from python-dateutil>=2.7->matplotlib<4.0.0,>=3.7.2->fitter) (1.16.0)\n",
            "Requirement already satisfied: markdown-it-py>=2.2.0 in /usr/local/lib/python3.10/dist-packages (from rich>=10.7.0->rich-click<2.0.0,>=1.7.2->fitter) (3.0.0)\n",
            "Requirement already satisfied: pygments<3.0.0,>=2.13.0 in /usr/local/lib/python3.10/dist-packages (from rich>=10.7.0->rich-click<2.0.0,>=1.7.2->fitter) (2.16.1)\n",
            "Requirement already satisfied: mdurl~=0.1 in /usr/local/lib/python3.10/dist-packages (from markdown-it-py>=2.2.0->rich>=10.7.0->rich-click<2.0.0,>=1.7.2->fitter) (0.1.2)\n"
          ]
        }
      ]
    },
    {
      "cell_type": "markdown",
      "source": [
        "Ahora si podemos importar la [librería Fitter](https://fitter.readthedocs.io/en/latest/#what-is-it) propiamente."
      ],
      "metadata": {
        "id": "XNZULPZQMWYn"
      }
    },
    {
      "cell_type": "code",
      "source": [
        "#Importamos fitter\n",
        "from fitter import Fitter"
      ],
      "metadata": {
        "id": "jqV_MYRCzB3L"
      },
      "execution_count": null,
      "outputs": []
    },
    {
      "cell_type": "markdown",
      "source": [
        "Cargamos los datos de la columna de nuestro DataFrame que queremos ajustar en una variable que llamamos \"f\"."
      ],
      "metadata": {
        "id": "8LmQYxvbNjT2"
      }
    },
    {
      "cell_type": "code",
      "source": [
        "f = Fitter(transporte_datos.HORAS)"
      ],
      "metadata": {
        "id": "BcITxjc0zNVU"
      },
      "execution_count": null,
      "outputs": []
    },
    {
      "cell_type": "markdown",
      "source": [
        "**La** función fit() de Fitter ajusta los datos recorriendo más de 80 distribuciones disponibles de la biblioteca scipy que previamente importamos. Podríamos indicarle en forma de lista, distribuciones con las cuales queremos que realice la prueba de ajuste, si es que conocemos de antemano que nuestros datos ajustará a alguna de ellas. Por ejemplo así:\n",
        "\n",
        "`fit(datos, distributions=['gamma','rayleigh','uniform'])`\n",
        "\n",
        "Tener en cuenta que si no pasamos ningún parámetro, la función fit() escaneará las 80 funciones de scipy y demorará varios minutos en el proceso."
      ],
      "metadata": {
        "id": "mvr6JAeXNzhe"
      }
    },
    {
      "cell_type": "code",
      "source": [
        "f.fit()"
      ],
      "metadata": {
        "colab": {
          "base_uri": "https://localhost:8080/"
        },
        "id": "F7bi_yl-znrX",
        "outputId": "cf3ab467-3a77-4f1e-e061-f0d32fa75be9"
      },
      "execution_count": null,
      "outputs": [
        {
          "output_type": "stream",
          "name": "stderr",
          "text": [
            "\u001b[32m2024-04-08 01:13:39.740\u001b[0m | \u001b[33m\u001b[1mWARNING \u001b[0m | \u001b[36mfitter.fitter\u001b[0m:\u001b[36m_fit_single_distribution\u001b[0m:\u001b[36m347\u001b[0m - \u001b[33m\u001b[1mSKIPPED _fit distribution (taking more than 30 seconds)\u001b[0m\n",
            "\u001b[32m2024-04-08 01:13:44.489\u001b[0m | \u001b[1mINFO    \u001b[0m | \u001b[36mfitter.fitter\u001b[0m:\u001b[36m_fit_single_distribution\u001b[0m:\u001b[36m337\u001b[0m - \u001b[1mFitted anglit distribution with error=0.138066)\u001b[0m\n",
            "\u001b[32m2024-04-08 01:13:45.993\u001b[0m | \u001b[1mINFO    \u001b[0m | \u001b[36mfitter.fitter\u001b[0m:\u001b[36m_fit_single_distribution\u001b[0m:\u001b[36m337\u001b[0m - \u001b[1mFitted arcsine distribution with error=0.296196)\u001b[0m\n",
            "\u001b[32m2024-04-08 01:13:47.275\u001b[0m | \u001b[1mINFO    \u001b[0m | \u001b[36mfitter.fitter\u001b[0m:\u001b[36m_fit_single_distribution\u001b[0m:\u001b[36m337\u001b[0m - \u001b[1mFitted alpha distribution with error=0.081928)\u001b[0m\n",
            "\u001b[32m2024-04-08 01:13:57.434\u001b[0m | \u001b[1mINFO    \u001b[0m | \u001b[36mfitter.fitter\u001b[0m:\u001b[36m_fit_single_distribution\u001b[0m:\u001b[36m337\u001b[0m - \u001b[1mFitted beta distribution with error=0.381642)\u001b[0m\n",
            "\u001b[32m2024-04-08 01:13:58.760\u001b[0m | \u001b[1mINFO    \u001b[0m | \u001b[36mfitter.fitter\u001b[0m:\u001b[36m_fit_single_distribution\u001b[0m:\u001b[36m337\u001b[0m - \u001b[1mFitted argus distribution with error=0.136815)\u001b[0m\n",
            "\u001b[32m2024-04-08 01:14:00.306\u001b[0m | \u001b[1mINFO    \u001b[0m | \u001b[36mfitter.fitter\u001b[0m:\u001b[36m_fit_single_distribution\u001b[0m:\u001b[36m337\u001b[0m - \u001b[1mFitted bradford distribution with error=0.210532)\u001b[0m\n",
            "\u001b[32m2024-04-08 01:14:13.432\u001b[0m | \u001b[1mINFO    \u001b[0m | \u001b[36mfitter.fitter\u001b[0m:\u001b[36m_fit_single_distribution\u001b[0m:\u001b[36m337\u001b[0m - \u001b[1mFitted betaprime distribution with error=0.072526)\u001b[0m\n",
            "\u001b[32m2024-04-08 01:14:30.351\u001b[0m | \u001b[33m\u001b[1mWARNING \u001b[0m | \u001b[36mfitter.fitter\u001b[0m:\u001b[36m_fit_single_distribution\u001b[0m:\u001b[36m347\u001b[0m - \u001b[33m\u001b[1mSKIPPED burr distribution (taking more than 30 seconds)\u001b[0m\n",
            "\u001b[32m2024-04-08 01:14:31.659\u001b[0m | \u001b[1mINFO    \u001b[0m | \u001b[36mfitter.fitter\u001b[0m:\u001b[36m_fit_single_distribution\u001b[0m:\u001b[36m337\u001b[0m - \u001b[1mFitted cauchy distribution with error=0.0112)\u001b[0m\n",
            "\u001b[32m2024-04-08 01:14:40.078\u001b[0m | \u001b[1mINFO    \u001b[0m | \u001b[36mfitter.fitter\u001b[0m:\u001b[36m_fit_single_distribution\u001b[0m:\u001b[36m337\u001b[0m - \u001b[1mFitted chi distribution with error=0.07281)\u001b[0m\n",
            "\u001b[32m2024-04-08 01:14:40.716\u001b[0m | \u001b[1mINFO    \u001b[0m | \u001b[36mfitter.fitter\u001b[0m:\u001b[36m_fit_single_distribution\u001b[0m:\u001b[36m337\u001b[0m - \u001b[1mFitted burr12 distribution with error=0.067221)\u001b[0m\n",
            "\u001b[32m2024-04-08 01:14:45.472\u001b[0m | \u001b[1mINFO    \u001b[0m | \u001b[36mfitter.fitter\u001b[0m:\u001b[36m_fit_single_distribution\u001b[0m:\u001b[36m337\u001b[0m - \u001b[1mFitted cosine distribution with error=0.109104)\u001b[0m\n",
            "\u001b[32m2024-04-08 01:14:51.516\u001b[0m | \u001b[1mINFO    \u001b[0m | \u001b[36mfitter.fitter\u001b[0m:\u001b[36m_fit_single_distribution\u001b[0m:\u001b[36m337\u001b[0m - \u001b[1mFitted chi2 distribution with error=0.082413)\u001b[0m\n",
            "\u001b[32m2024-04-08 01:14:58.585\u001b[0m | \u001b[1mINFO    \u001b[0m | \u001b[36mfitter.fitter\u001b[0m:\u001b[36m_fit_single_distribution\u001b[0m:\u001b[36m337\u001b[0m - \u001b[1mFitted crystalball distribution with error=0.07028)\u001b[0m\n",
            "\u001b[32m2024-04-08 01:15:01.538\u001b[0m | \u001b[1mINFO    \u001b[0m | \u001b[36mfitter.fitter\u001b[0m:\u001b[36m_fit_single_distribution\u001b[0m:\u001b[36m337\u001b[0m - \u001b[1mFitted dgamma distribution with error=0.017782)\u001b[0m\n",
            "\u001b[32m2024-04-08 01:15:05.902\u001b[0m | \u001b[1mINFO    \u001b[0m | \u001b[36mfitter.fitter\u001b[0m:\u001b[36m_fit_single_distribution\u001b[0m:\u001b[36m337\u001b[0m - \u001b[1mFitted dweibull distribution with error=0.017476)\u001b[0m\n",
            "\u001b[32m2024-04-08 01:15:05.964\u001b[0m | \u001b[1mINFO    \u001b[0m | \u001b[36mfitter.fitter\u001b[0m:\u001b[36m_fit_single_distribution\u001b[0m:\u001b[36m337\u001b[0m - \u001b[1mFitted expon distribution with error=0.295472)\u001b[0m\n",
            "\u001b[32m2024-04-08 01:15:08.047\u001b[0m | \u001b[1mINFO    \u001b[0m | \u001b[36mfitter.fitter\u001b[0m:\u001b[36m_fit_single_distribution\u001b[0m:\u001b[36m337\u001b[0m - \u001b[1mFitted erlang distribution with error=0.079296)\u001b[0m\n",
            "\u001b[32m2024-04-08 01:15:10.309\u001b[0m | \u001b[1mINFO    \u001b[0m | \u001b[36mfitter.fitter\u001b[0m:\u001b[36m_fit_single_distribution\u001b[0m:\u001b[36m337\u001b[0m - \u001b[1mFitted exponnorm distribution with error=0.07028)\u001b[0m\n",
            "\u001b[32m2024-04-08 01:15:31.995\u001b[0m | \u001b[1mINFO    \u001b[0m | \u001b[36mfitter.fitter\u001b[0m:\u001b[36m_fit_single_distribution\u001b[0m:\u001b[36m337\u001b[0m - \u001b[1mFitted exponpow distribution with error=1.051316)\u001b[0m\n",
            "\u001b[32m2024-04-08 01:15:40.353\u001b[0m | \u001b[33m\u001b[1mWARNING \u001b[0m | \u001b[36mfitter.fitter\u001b[0m:\u001b[36m_fit_single_distribution\u001b[0m:\u001b[36m347\u001b[0m - \u001b[33m\u001b[1mSKIPPED exponweib distribution (taking more than 30 seconds)\u001b[0m\n",
            "\u001b[32m2024-04-08 01:15:57.494\u001b[0m | \u001b[1mINFO    \u001b[0m | \u001b[36mfitter.fitter\u001b[0m:\u001b[36m_fit_single_distribution\u001b[0m:\u001b[36m337\u001b[0m - \u001b[1mFitted f distribution with error=0.873343)\u001b[0m\n",
            "\u001b[32m2024-04-08 01:15:57.980\u001b[0m | \u001b[1mINFO    \u001b[0m | \u001b[36mfitter.fitter\u001b[0m:\u001b[36m_fit_single_distribution\u001b[0m:\u001b[36m337\u001b[0m - \u001b[1mFitted fatiguelife distribution with error=0.070265)\u001b[0m\n",
            "\u001b[32m2024-04-08 01:16:00.180\u001b[0m | \u001b[1mINFO    \u001b[0m | \u001b[36mfitter.fitter\u001b[0m:\u001b[36m_fit_single_distribution\u001b[0m:\u001b[36m337\u001b[0m - \u001b[1mFitted foldcauchy distribution with error=0.158705)\u001b[0m\n",
            "\u001b[32m2024-04-08 01:16:14.368\u001b[0m | \u001b[1mINFO    \u001b[0m | \u001b[36mfitter.fitter\u001b[0m:\u001b[36m_fit_single_distribution\u001b[0m:\u001b[36m337\u001b[0m - \u001b[1mFitted foldnorm distribution with error=0.070723)\u001b[0m\n",
            "\u001b[32m2024-04-08 01:16:25.904\u001b[0m | \u001b[1mINFO    \u001b[0m | \u001b[36mfitter.fitter\u001b[0m:\u001b[36m_fit_single_distribution\u001b[0m:\u001b[36m337\u001b[0m - \u001b[1mFitted gamma distribution with error=0.07826)\u001b[0m\n",
            "\u001b[32m2024-04-08 01:16:27.513\u001b[0m | \u001b[33m\u001b[1mWARNING \u001b[0m | \u001b[36mfitter.fitter\u001b[0m:\u001b[36m_fit_single_distribution\u001b[0m:\u001b[36m347\u001b[0m - \u001b[33m\u001b[1mSKIPPED fisk distribution (taking more than 30 seconds)\u001b[0m\n",
            "\u001b[32m2024-04-08 01:16:55.953\u001b[0m | \u001b[33m\u001b[1mWARNING \u001b[0m | \u001b[36mfitter.fitter\u001b[0m:\u001b[36m_fit_single_distribution\u001b[0m:\u001b[36m347\u001b[0m - \u001b[33m\u001b[1mSKIPPED gausshyper distribution (taking more than 30 seconds)\u001b[0m\n",
            "\u001b[32m2024-04-08 01:16:57.126\u001b[0m | \u001b[1mINFO    \u001b[0m | \u001b[36mfitter.fitter\u001b[0m:\u001b[36m_fit_single_distribution\u001b[0m:\u001b[36m337\u001b[0m - \u001b[1mFitted genexpon distribution with error=0.186333)\u001b[0m\n",
            "\u001b[32m2024-04-08 01:17:26.007\u001b[0m | \u001b[33m\u001b[1mWARNING \u001b[0m | \u001b[36mfitter.fitter\u001b[0m:\u001b[36m_fit_single_distribution\u001b[0m:\u001b[36m347\u001b[0m - \u001b[33m\u001b[1mSKIPPED genextreme distribution (taking more than 30 seconds)\u001b[0m\n",
            "\u001b[32m2024-04-08 01:17:27.156\u001b[0m | \u001b[33m\u001b[1mWARNING \u001b[0m | \u001b[36mfitter.fitter\u001b[0m:\u001b[36m_fit_single_distribution\u001b[0m:\u001b[36m347\u001b[0m - \u001b[33m\u001b[1mSKIPPED gengamma distribution (taking more than 30 seconds)\u001b[0m\n",
            "\u001b[32m2024-04-08 01:17:46.316\u001b[0m | \u001b[1mINFO    \u001b[0m | \u001b[36mfitter.fitter\u001b[0m:\u001b[36m_fit_single_distribution\u001b[0m:\u001b[36m337\u001b[0m - \u001b[1mFitted genhalflogistic distribution with error=0.166098)\u001b[0m\n",
            "\u001b[32m2024-04-08 01:17:57.221\u001b[0m | \u001b[33m\u001b[1mWARNING \u001b[0m | \u001b[36mfitter.fitter\u001b[0m:\u001b[36m_fit_single_distribution\u001b[0m:\u001b[36m347\u001b[0m - \u001b[33m\u001b[1mSKIPPED genhyperbolic distribution (taking more than 30 seconds)\u001b[0m\n",
            "\u001b[32m2024-04-08 01:18:00.478\u001b[0m | \u001b[1mINFO    \u001b[0m | \u001b[36mfitter.fitter\u001b[0m:\u001b[36m_fit_single_distribution\u001b[0m:\u001b[36m337\u001b[0m - \u001b[1mFitted genlogistic distribution with error=0.022638)\u001b[0m\n",
            "\u001b[32m2024-04-08 01:18:12.202\u001b[0m | \u001b[1mINFO    \u001b[0m | \u001b[36mfitter.fitter\u001b[0m:\u001b[36m_fit_single_distribution\u001b[0m:\u001b[36m337\u001b[0m - \u001b[1mFitted gennorm distribution with error=0.016289)\u001b[0m\n",
            "\u001b[32m2024-04-08 01:18:16.374\u001b[0m | \u001b[33m\u001b[1mWARNING \u001b[0m | \u001b[36mfitter.fitter\u001b[0m:\u001b[36m_fit_single_distribution\u001b[0m:\u001b[36m347\u001b[0m - \u001b[33m\u001b[1mSKIPPED geninvgauss distribution (taking more than 30 seconds)\u001b[0m\n",
            "\u001b[32m2024-04-08 01:18:26.828\u001b[0m | \u001b[1mINFO    \u001b[0m | \u001b[36mfitter.fitter\u001b[0m:\u001b[36m_fit_single_distribution\u001b[0m:\u001b[36m337\u001b[0m - \u001b[1mFitted gibrat distribution with error=0.252812)\u001b[0m\n",
            "\u001b[32m2024-04-08 01:18:27.686\u001b[0m | \u001b[1mINFO    \u001b[0m | \u001b[36mfitter.fitter\u001b[0m:\u001b[36m_fit_single_distribution\u001b[0m:\u001b[36m337\u001b[0m - \u001b[1mFitted genpareto distribution with error=0.946937)\u001b[0m\n",
            "\u001b[32m2024-04-08 01:18:28.143\u001b[0m | \u001b[1mINFO    \u001b[0m | \u001b[36mfitter.fitter\u001b[0m:\u001b[36m_fit_single_distribution\u001b[0m:\u001b[36m337\u001b[0m - \u001b[1mFitted gumbel_l distribution with error=0.050981)\u001b[0m\n",
            "\u001b[32m2024-04-08 01:18:28.581\u001b[0m | \u001b[1mINFO    \u001b[0m | \u001b[36mfitter.fitter\u001b[0m:\u001b[36m_fit_single_distribution\u001b[0m:\u001b[36m337\u001b[0m - \u001b[1mFitted gumbel_r distribution with error=0.131224)\u001b[0m\n",
            "\u001b[32m2024-04-08 01:18:40.245\u001b[0m | \u001b[1mINFO    \u001b[0m | \u001b[36mfitter.fitter\u001b[0m:\u001b[36m_fit_single_distribution\u001b[0m:\u001b[36m337\u001b[0m - \u001b[1mFitted gompertz distribution with error=0.053017)\u001b[0m\n",
            "\u001b[32m2024-04-08 01:18:40.403\u001b[0m | \u001b[1mINFO    \u001b[0m | \u001b[36mfitter.fitter\u001b[0m:\u001b[36m_fit_single_distribution\u001b[0m:\u001b[36m337\u001b[0m - \u001b[1mFitted halfcauchy distribution with error=0.277705)\u001b[0m\n",
            "\u001b[32m2024-04-08 01:18:49.502\u001b[0m | \u001b[1mINFO    \u001b[0m | \u001b[36mfitter.fitter\u001b[0m:\u001b[36m_fit_single_distribution\u001b[0m:\u001b[36m337\u001b[0m - \u001b[1mFitted halflogistic distribution with error=0.259955)\u001b[0m\n",
            "\u001b[32m2024-04-08 01:18:52.694\u001b[0m | \u001b[1mINFO    \u001b[0m | \u001b[36mfitter.fitter\u001b[0m:\u001b[36m_fit_single_distribution\u001b[0m:\u001b[36m337\u001b[0m - \u001b[1mFitted halfnorm distribution with error=0.254223)\u001b[0m\n",
            "\u001b[32m2024-04-08 01:18:53.964\u001b[0m | \u001b[1mINFO    \u001b[0m | \u001b[36mfitter.fitter\u001b[0m:\u001b[36m_fit_single_distribution\u001b[0m:\u001b[36m337\u001b[0m - \u001b[1mFitted hypsecant distribution with error=0.035147)\u001b[0m\n",
            "\u001b[32m2024-04-08 01:19:04.603\u001b[0m | \u001b[1mINFO    \u001b[0m | \u001b[36mfitter.fitter\u001b[0m:\u001b[36m_fit_single_distribution\u001b[0m:\u001b[36m337\u001b[0m - \u001b[1mFitted halfgennorm distribution with error=0.19476)\u001b[0m\n",
            "\u001b[32m2024-04-08 01:19:08.264\u001b[0m | \u001b[1mINFO    \u001b[0m | \u001b[36mfitter.fitter\u001b[0m:\u001b[36m_fit_single_distribution\u001b[0m:\u001b[36m337\u001b[0m - \u001b[1mFitted invgamma distribution with error=0.082092)\u001b[0m\n",
            "\u001b[32m2024-04-08 01:19:19.536\u001b[0m | \u001b[1mINFO    \u001b[0m | \u001b[36mfitter.fitter\u001b[0m:\u001b[36m_fit_single_distribution\u001b[0m:\u001b[36m337\u001b[0m - \u001b[1mFitted invgauss distribution with error=0.105926)\u001b[0m\n",
            "\u001b[32m2024-04-08 01:19:38.309\u001b[0m | \u001b[33m\u001b[1mWARNING \u001b[0m | \u001b[36mfitter.fitter\u001b[0m:\u001b[36m_fit_single_distribution\u001b[0m:\u001b[36m347\u001b[0m - \u001b[33m\u001b[1mSKIPPED invweibull distribution (taking more than 30 seconds)\u001b[0m\n",
            "\u001b[32m2024-04-08 01:19:47.761\u001b[0m | \u001b[1mINFO    \u001b[0m | \u001b[36mfitter.fitter\u001b[0m:\u001b[36m_fit_single_distribution\u001b[0m:\u001b[36m337\u001b[0m - \u001b[1mFitted johnsonsu distribution with error=0.010913)\u001b[0m\n",
            "\u001b[32m2024-04-08 01:19:49.611\u001b[0m | \u001b[33m\u001b[1mWARNING \u001b[0m | \u001b[36mfitter.fitter\u001b[0m:\u001b[36m_fit_single_distribution\u001b[0m:\u001b[36m347\u001b[0m - \u001b[33m\u001b[1mSKIPPED johnsonsb distribution (taking more than 30 seconds)\u001b[0m\n",
            "\u001b[32m2024-04-08 01:20:17.830\u001b[0m | \u001b[33m\u001b[1mWARNING \u001b[0m | \u001b[36mfitter.fitter\u001b[0m:\u001b[36m_fit_single_distribution\u001b[0m:\u001b[36m347\u001b[0m - \u001b[33m\u001b[1mSKIPPED kappa3 distribution (taking more than 30 seconds)\u001b[0m\n",
            "\u001b[32m2024-04-08 01:20:19.672\u001b[0m | \u001b[33m\u001b[1mWARNING \u001b[0m | \u001b[36mfitter.fitter\u001b[0m:\u001b[36m_fit_single_distribution\u001b[0m:\u001b[36m347\u001b[0m - \u001b[33m\u001b[1mSKIPPED kappa4 distribution (taking more than 30 seconds)\u001b[0m\n",
            "\u001b[32m2024-04-08 01:20:19.814\u001b[0m | \u001b[33m\u001b[1mWARNING \u001b[0m | \u001b[36mfitter.fitter\u001b[0m:\u001b[36m_fit_single_distribution\u001b[0m:\u001b[36m347\u001b[0m - \u001b[33m\u001b[1mSKIPPED kstwo distribution (taking more than 30 seconds)\u001b[0m\n",
            "\u001b[32m2024-04-08 01:20:29.377\u001b[0m | \u001b[1mINFO    \u001b[0m | \u001b[36mfitter.fitter\u001b[0m:\u001b[36m_fit_single_distribution\u001b[0m:\u001b[36m337\u001b[0m - \u001b[1mFitted kstwobign distribution with error=0.15118)\u001b[0m\n",
            "\u001b[32m2024-04-08 01:20:29.612\u001b[0m | \u001b[1mINFO    \u001b[0m | \u001b[36mfitter.fitter\u001b[0m:\u001b[36m_fit_single_distribution\u001b[0m:\u001b[36m337\u001b[0m - \u001b[1mFitted laplace distribution with error=0.01832)\u001b[0m\n",
            "\u001b[32m2024-04-08 01:20:32.818\u001b[0m | \u001b[1mINFO    \u001b[0m | \u001b[36mfitter.fitter\u001b[0m:\u001b[36m_fit_single_distribution\u001b[0m:\u001b[36m337\u001b[0m - \u001b[1mFitted laplace_asymmetric distribution with error=0.009795)\u001b[0m\n",
            "\u001b[32m2024-04-08 01:20:36.077\u001b[0m | \u001b[1mINFO    \u001b[0m | \u001b[36mfitter.fitter\u001b[0m:\u001b[36m_fit_single_distribution\u001b[0m:\u001b[36m337\u001b[0m - \u001b[1mFitted ksone distribution with error=0.212854)\u001b[0m\n",
            "\u001b[32m2024-04-08 01:20:37.327\u001b[0m | \u001b[1mINFO    \u001b[0m | \u001b[36mfitter.fitter\u001b[0m:\u001b[36m_fit_single_distribution\u001b[0m:\u001b[36m337\u001b[0m - \u001b[1mFitted levy distribution with error=0.289797)\u001b[0m\n",
            "\u001b[32m2024-04-08 01:20:38.982\u001b[0m | \u001b[1mINFO    \u001b[0m | \u001b[36mfitter.fitter\u001b[0m:\u001b[36m_fit_single_distribution\u001b[0m:\u001b[36m337\u001b[0m - \u001b[1mFitted levy_l distribution with error=0.251125)\u001b[0m\n",
            "\u001b[32m2024-04-08 01:20:40.371\u001b[0m | \u001b[1mINFO    \u001b[0m | \u001b[36mfitter.fitter\u001b[0m:\u001b[36m_fit_single_distribution\u001b[0m:\u001b[36m337\u001b[0m - \u001b[1mFitted loggamma distribution with error=0.047766)\u001b[0m\n",
            "\u001b[32m2024-04-08 01:20:40.782\u001b[0m | \u001b[1mINFO    \u001b[0m | \u001b[36mfitter.fitter\u001b[0m:\u001b[36m_fit_single_distribution\u001b[0m:\u001b[36m337\u001b[0m - \u001b[1mFitted logistic distribution with error=0.047341)\u001b[0m\n",
            "\u001b[32m2024-04-08 01:21:01.775\u001b[0m | \u001b[1mINFO    \u001b[0m | \u001b[36mfitter.fitter\u001b[0m:\u001b[36m_fit_single_distribution\u001b[0m:\u001b[36m337\u001b[0m - \u001b[1mFitted loglaplace distribution with error=0.01828)\u001b[0m\n",
            "\u001b[32m2024-04-08 01:21:07.387\u001b[0m | \u001b[33m\u001b[1mWARNING \u001b[0m | \u001b[36mfitter.fitter\u001b[0m:\u001b[36m_fit_single_distribution\u001b[0m:\u001b[36m347\u001b[0m - \u001b[33m\u001b[1mSKIPPED levy_stable distribution (taking more than 30 seconds)\u001b[0m\n",
            "\u001b[32m2024-04-08 01:21:13.365\u001b[0m | \u001b[1mINFO    \u001b[0m | \u001b[36mfitter.fitter\u001b[0m:\u001b[36m_fit_single_distribution\u001b[0m:\u001b[36m337\u001b[0m - \u001b[1mFitted loguniform distribution with error=1.510693)\u001b[0m\n",
            "\u001b[32m2024-04-08 01:21:18.856\u001b[0m | \u001b[1mINFO    \u001b[0m | \u001b[36mfitter.fitter\u001b[0m:\u001b[36m_fit_single_distribution\u001b[0m:\u001b[36m337\u001b[0m - \u001b[1mFitted lomax distribution with error=0.438168)\u001b[0m\n",
            "\u001b[32m2024-04-08 01:21:20.160\u001b[0m | \u001b[1mINFO    \u001b[0m | \u001b[36mfitter.fitter\u001b[0m:\u001b[36m_fit_single_distribution\u001b[0m:\u001b[36m337\u001b[0m - \u001b[1mFitted maxwell distribution with error=0.134372)\u001b[0m\n",
            "\u001b[32m2024-04-08 01:21:25.198\u001b[0m | \u001b[1mINFO    \u001b[0m | \u001b[36mfitter.fitter\u001b[0m:\u001b[36m_fit_single_distribution\u001b[0m:\u001b[36m337\u001b[0m - \u001b[1mFitted lognorm distribution with error=0.071391)\u001b[0m\n",
            "\u001b[32m2024-04-08 01:21:28.680\u001b[0m | \u001b[1mINFO    \u001b[0m | \u001b[36mfitter.fitter\u001b[0m:\u001b[36m_fit_single_distribution\u001b[0m:\u001b[36m337\u001b[0m - \u001b[1mFitted moyal distribution with error=0.154959)\u001b[0m\n",
            "\u001b[32m2024-04-08 01:21:37.083\u001b[0m | \u001b[1mINFO    \u001b[0m | \u001b[36mfitter.fitter\u001b[0m:\u001b[36m_fit_single_distribution\u001b[0m:\u001b[36m337\u001b[0m - \u001b[1mFitted nakagami distribution with error=0.070541)\u001b[0m\n",
            "\u001b[32m2024-04-08 01:21:49.421\u001b[0m | \u001b[1mINFO    \u001b[0m | \u001b[36mfitter.fitter\u001b[0m:\u001b[36m_fit_single_distribution\u001b[0m:\u001b[36m337\u001b[0m - \u001b[1mFitted mielke distribution with error=0.101909)\u001b[0m\n",
            "\u001b[32m2024-04-08 01:22:07.105\u001b[0m | \u001b[33m\u001b[1mWARNING \u001b[0m | \u001b[36mfitter.fitter\u001b[0m:\u001b[36m_fit_single_distribution\u001b[0m:\u001b[36m347\u001b[0m - \u001b[33m\u001b[1mSKIPPED ncf distribution (taking more than 30 seconds)\u001b[0m\n",
            "\u001b[32m2024-04-08 01:22:19.469\u001b[0m | \u001b[33m\u001b[1mWARNING \u001b[0m | \u001b[36mfitter.fitter\u001b[0m:\u001b[36m_fit_single_distribution\u001b[0m:\u001b[36m347\u001b[0m - \u001b[33m\u001b[1mSKIPPED nct distribution (taking more than 30 seconds)\u001b[0m\n",
            "\u001b[32m2024-04-08 01:22:19.556\u001b[0m | \u001b[1mINFO    \u001b[0m | \u001b[36mfitter.fitter\u001b[0m:\u001b[36m_fit_single_distribution\u001b[0m:\u001b[36m337\u001b[0m - \u001b[1mFitted norm distribution with error=0.07028)\u001b[0m\n",
            "\u001b[32m2024-04-08 01:22:37.185\u001b[0m | \u001b[33m\u001b[1mWARNING \u001b[0m | \u001b[36mfitter.fitter\u001b[0m:\u001b[36m_fit_single_distribution\u001b[0m:\u001b[36m347\u001b[0m - \u001b[33m\u001b[1mSKIPPED ncx2 distribution (taking more than 30 seconds)\u001b[0m\n",
            "\u001b[32m2024-04-08 01:22:38.192\u001b[0m | \u001b[1mINFO    \u001b[0m | \u001b[36mfitter.fitter\u001b[0m:\u001b[36m_fit_single_distribution\u001b[0m:\u001b[36m337\u001b[0m - \u001b[1mFitted pareto distribution with error=0.295472)\u001b[0m\n",
            "\u001b[32m2024-04-08 01:22:54.783\u001b[0m | \u001b[1mINFO    \u001b[0m | \u001b[36mfitter.fitter\u001b[0m:\u001b[36m_fit_single_distribution\u001b[0m:\u001b[36m337\u001b[0m - \u001b[1mFitted pearson3 distribution with error=0.052879)\u001b[0m\n",
            "\u001b[32m2024-04-08 01:22:55.105\u001b[0m | \u001b[1mINFO    \u001b[0m | \u001b[36mfitter.fitter\u001b[0m:\u001b[36m_fit_single_distribution\u001b[0m:\u001b[36m337\u001b[0m - \u001b[1mFitted powerlaw distribution with error=0.188921)\u001b[0m\n",
            "\u001b[32m2024-04-08 01:23:25.254\u001b[0m | \u001b[33m\u001b[1mWARNING \u001b[0m | \u001b[36mfitter.fitter\u001b[0m:\u001b[36m_fit_single_distribution\u001b[0m:\u001b[36m347\u001b[0m - \u001b[33m\u001b[1mSKIPPED powerlognorm distribution (taking more than 30 seconds)\u001b[0m\n",
            "\u001b[32m2024-04-08 01:23:43.019\u001b[0m | \u001b[1mINFO    \u001b[0m | \u001b[36mfitter.fitter\u001b[0m:\u001b[36m_fit_single_distribution\u001b[0m:\u001b[36m337\u001b[0m - \u001b[1mFitted powernorm distribution with error=0.0472)\u001b[0m\n",
            "\u001b[32m2024-04-08 01:23:43.764\u001b[0m | \u001b[1mINFO    \u001b[0m | \u001b[36mfitter.fitter\u001b[0m:\u001b[36m_fit_single_distribution\u001b[0m:\u001b[36m337\u001b[0m - \u001b[1mFitted rayleigh distribution with error=0.1702)\u001b[0m\n",
            "\u001b[32m2024-04-08 01:24:03.149\u001b[0m | \u001b[1mINFO    \u001b[0m | \u001b[36mfitter.fitter\u001b[0m:\u001b[36m_fit_single_distribution\u001b[0m:\u001b[36m337\u001b[0m - \u001b[1mFitted rdist distribution with error=0.070632)\u001b[0m\n",
            "\u001b[32m2024-04-08 01:24:33.191\u001b[0m | \u001b[33m\u001b[1mWARNING \u001b[0m | \u001b[36mfitter.fitter\u001b[0m:\u001b[36m_fit_single_distribution\u001b[0m:\u001b[36m347\u001b[0m - \u001b[33m\u001b[1mSKIPPED recipinvgauss distribution (taking more than 30 seconds)\u001b[0m\n",
            "\u001b[32m2024-04-08 01:24:41.367\u001b[0m | \u001b[1mINFO    \u001b[0m | \u001b[36mfitter.fitter\u001b[0m:\u001b[36m_fit_single_distribution\u001b[0m:\u001b[36m337\u001b[0m - \u001b[1mFitted reciprocal distribution with error=1.510693)\u001b[0m\n",
            "\u001b[32m2024-04-08 01:24:55.568\u001b[0m | \u001b[1mINFO    \u001b[0m | \u001b[36mfitter.fitter\u001b[0m:\u001b[36m_fit_single_distribution\u001b[0m:\u001b[36m337\u001b[0m - \u001b[1mFitted rel_breitwigner distribution with error=0.00473)\u001b[0m\n",
            "\u001b[32m2024-04-08 01:25:25.588\u001b[0m | \u001b[33m\u001b[1mWARNING \u001b[0m | \u001b[36mfitter.fitter\u001b[0m:\u001b[36m_fit_single_distribution\u001b[0m:\u001b[36m347\u001b[0m - \u001b[33m\u001b[1mSKIPPED rice distribution (taking more than 30 seconds)\u001b[0m\n",
            "\u001b[32m2024-04-08 01:25:25.630\u001b[0m | \u001b[33m\u001b[1mWARNING \u001b[0m | \u001b[36mfitter.fitter\u001b[0m:\u001b[36m_fit_single_distribution\u001b[0m:\u001b[36m347\u001b[0m - \u001b[33m\u001b[1mSKIPPED rv_continuous distribution (taking more than 30 seconds)\u001b[0m\n",
            "\u001b[32m2024-04-08 01:25:25.709\u001b[0m | \u001b[33m\u001b[1mWARNING \u001b[0m | \u001b[36mfitter.fitter\u001b[0m:\u001b[36m_fit_single_distribution\u001b[0m:\u001b[36m347\u001b[0m - \u001b[33m\u001b[1mSKIPPED rv_histogram distribution (taking more than 30 seconds)\u001b[0m\n",
            "\u001b[32m2024-04-08 01:25:30.040\u001b[0m | \u001b[1mINFO    \u001b[0m | \u001b[36mfitter.fitter\u001b[0m:\u001b[36m_fit_single_distribution\u001b[0m:\u001b[36m337\u001b[0m - \u001b[1mFitted semicircular distribution with error=0.16443)\u001b[0m\n",
            "\u001b[32m2024-04-08 01:25:35.311\u001b[0m | \u001b[1mINFO    \u001b[0m | \u001b[36mfitter.fitter\u001b[0m:\u001b[36m_fit_single_distribution\u001b[0m:\u001b[36m337\u001b[0m - \u001b[1mFitted skewcauchy distribution with error=0.008598)\u001b[0m\n",
            "\u001b[32m2024-04-08 01:25:45.543\u001b[0m | \u001b[1mINFO    \u001b[0m | \u001b[36mfitter.fitter\u001b[0m:\u001b[36m_fit_single_distribution\u001b[0m:\u001b[36m337\u001b[0m - \u001b[1mFitted skewnorm distribution with error=0.047136)\u001b[0m\n",
            "\u001b[32m2024-04-08 01:26:08.871\u001b[0m | \u001b[1mINFO    \u001b[0m | \u001b[36mfitter.fitter\u001b[0m:\u001b[36m_fit_single_distribution\u001b[0m:\u001b[36m337\u001b[0m - \u001b[1mFitted norminvgauss distribution with error=0.010492)\u001b[0m\n",
            "\u001b[32m2024-04-08 01:26:15.679\u001b[0m | \u001b[33m\u001b[1mWARNING \u001b[0m | \u001b[36mfitter.fitter\u001b[0m:\u001b[36m_fit_single_distribution\u001b[0m:\u001b[36m347\u001b[0m - \u001b[33m\u001b[1mSKIPPED studentized_range distribution (taking more than 30 seconds)\u001b[0m\n",
            "/usr/local/lib/python3.10/dist-packages/scipy/integrate/_quadpack_py.py:1233: IntegrationWarning: The maximum number of subdivisions (50) has been achieved.\n",
            "  If increasing the limit yields no improvement it is advised to analyze \n",
            "  the integrand in order to determine the difficulties.  If the position of a \n",
            "  local difficulty can be determined (singularity, discontinuity) one will \n",
            "  probably gain from splitting up the interval and calling the integrator \n",
            "  on the subranges.  Perhaps a special-purpose integrator should be used.\n",
            "  quad_r = quad(f, low, high, args=args, full_output=self.full_output,\n",
            "\u001b[32m2024-04-08 01:26:22.592\u001b[0m | \u001b[1mINFO    \u001b[0m | \u001b[36mfitter.fitter\u001b[0m:\u001b[36m_fit_single_distribution\u001b[0m:\u001b[36m337\u001b[0m - \u001b[1mFitted trapezoid distribution with error=0.201842)\u001b[0m\n",
            "\u001b[32m2024-04-08 01:26:29.854\u001b[0m | \u001b[1mINFO    \u001b[0m | \u001b[36mfitter.fitter\u001b[0m:\u001b[36m_fit_single_distribution\u001b[0m:\u001b[36m337\u001b[0m - \u001b[1mFitted trapz distribution with error=0.201842)\u001b[0m\n",
            "\u001b[32m2024-04-08 01:26:39.029\u001b[0m | \u001b[33m\u001b[1mWARNING \u001b[0m | \u001b[36mfitter.fitter\u001b[0m:\u001b[36m_fit_single_distribution\u001b[0m:\u001b[36m347\u001b[0m - \u001b[33m\u001b[1mSKIPPED t distribution (taking more than 30 seconds)\u001b[0m\n",
            "/usr/local/lib/python3.10/dist-packages/scipy/integrate/_quadpack_py.py:1233: IntegrationWarning: The integral is probably divergent, or slowly convergent.\n",
            "  quad_r = quad(f, low, high, args=args, full_output=self.full_output,\n",
            "\u001b[32m2024-04-08 01:26:42.325\u001b[0m | \u001b[1mINFO    \u001b[0m | \u001b[36mfitter.fitter\u001b[0m:\u001b[36m_fit_single_distribution\u001b[0m:\u001b[36m337\u001b[0m - \u001b[1mFitted truncexpon distribution with error=0.233339)\u001b[0m\n",
            "\u001b[32m2024-04-08 01:26:43.675\u001b[0m | \u001b[1mINFO    \u001b[0m | \u001b[36mfitter.fitter\u001b[0m:\u001b[36m_fit_single_distribution\u001b[0m:\u001b[36m337\u001b[0m - \u001b[1mFitted triang distribution with error=0.084406)\u001b[0m\n",
            "\u001b[32m2024-04-08 01:26:56.636\u001b[0m | \u001b[1mINFO    \u001b[0m | \u001b[36mfitter.fitter\u001b[0m:\u001b[36m_fit_single_distribution\u001b[0m:\u001b[36m337\u001b[0m - \u001b[1mFitted truncnorm distribution with error=0.223175)\u001b[0m\n",
            "\u001b[32m2024-04-08 01:26:57.426\u001b[0m | \u001b[1mINFO    \u001b[0m | \u001b[36mfitter.fitter\u001b[0m:\u001b[36m_fit_single_distribution\u001b[0m:\u001b[36m337\u001b[0m - \u001b[1mFitted truncpareto distribution with error=0.315035)\u001b[0m\n",
            "\u001b[32m2024-04-08 01:27:26.683\u001b[0m | \u001b[33m\u001b[1mWARNING \u001b[0m | \u001b[36mfitter.fitter\u001b[0m:\u001b[36m_fit_single_distribution\u001b[0m:\u001b[36m347\u001b[0m - \u001b[33m\u001b[1mSKIPPED truncweibull_min distribution (taking more than 30 seconds)\u001b[0m\n",
            "\u001b[32m2024-04-08 01:27:26.821\u001b[0m | \u001b[1mINFO    \u001b[0m | \u001b[36mfitter.fitter\u001b[0m:\u001b[36m_fit_single_distribution\u001b[0m:\u001b[36m337\u001b[0m - \u001b[1mFitted uniform distribution with error=0.208031)\u001b[0m\n",
            "\u001b[32m2024-04-08 01:27:27.092\u001b[0m | \u001b[1mINFO    \u001b[0m | \u001b[36mfitter.fitter\u001b[0m:\u001b[36m_fit_single_distribution\u001b[0m:\u001b[36m337\u001b[0m - \u001b[1mFitted vonmises distribution with error=1.730232)\u001b[0m\n",
            "\u001b[32m2024-04-08 01:27:27.126\u001b[0m | \u001b[33m\u001b[1mWARNING \u001b[0m | \u001b[36mfitter.fitter\u001b[0m:\u001b[36m_fit_single_distribution\u001b[0m:\u001b[36m347\u001b[0m - \u001b[33m\u001b[1mSKIPPED vonmises_fisher distribution (taking more than 30 seconds)\u001b[0m\n",
            "\u001b[32m2024-04-08 01:27:27.474\u001b[0m | \u001b[33m\u001b[1mWARNING \u001b[0m | \u001b[36mfitter.fitter\u001b[0m:\u001b[36m_fit_single_distribution\u001b[0m:\u001b[36m347\u001b[0m - \u001b[33m\u001b[1mSKIPPED tukeylambda distribution (taking more than 30 seconds)\u001b[0m\n",
            "\u001b[32m2024-04-08 01:27:33.799\u001b[0m | \u001b[1mINFO    \u001b[0m | \u001b[36mfitter.fitter\u001b[0m:\u001b[36m_fit_single_distribution\u001b[0m:\u001b[36m337\u001b[0m - \u001b[1mFitted wald distribution with error=0.244143)\u001b[0m\n",
            "\u001b[32m2024-04-08 01:27:45.280\u001b[0m | \u001b[1mINFO    \u001b[0m | \u001b[36mfitter.fitter\u001b[0m:\u001b[36m_fit_single_distribution\u001b[0m:\u001b[36m337\u001b[0m - \u001b[1mFitted vonmises_line distribution with error=0.241884)\u001b[0m\n",
            "\u001b[32m2024-04-08 01:27:45.672\u001b[0m | \u001b[1mINFO    \u001b[0m | \u001b[36mfitter.fitter\u001b[0m:\u001b[36m_fit_single_distribution\u001b[0m:\u001b[36m337\u001b[0m - \u001b[1mFitted weibull_max distribution with error=1.261702)\u001b[0m\n",
            "\u001b[32m2024-04-08 01:27:51.142\u001b[0m | \u001b[1mINFO    \u001b[0m | \u001b[36mfitter.fitter\u001b[0m:\u001b[36m_fit_single_distribution\u001b[0m:\u001b[36m337\u001b[0m - \u001b[1mFitted wrapcauchy distribution with error=0.208031)\u001b[0m\n",
            "\u001b[32m2024-04-08 01:27:51.823\u001b[0m | \u001b[1mINFO    \u001b[0m | \u001b[36mfitter.fitter\u001b[0m:\u001b[36m_fit_single_distribution\u001b[0m:\u001b[36m337\u001b[0m - \u001b[1mFitted weibull_min distribution with error=0.049424)\u001b[0m\n"
          ]
        }
      ]
    },
    {
      "cell_type": "markdown",
      "source": [
        "La función sumary():\n",
        "\n",
        "`summary(Nbest=5, lw=2, plot=True, method='sumsquare_error', clf=True)`\n",
        "\n",
        "grafica la distribución de las N mejores distribuciones."
      ],
      "metadata": {
        "id": "rQHRoqUsRMB_"
      }
    },
    {
      "cell_type": "code",
      "source": [
        "f.summary(10)"
      ],
      "metadata": {
        "colab": {
          "base_uri": "https://localhost:8080/",
          "height": 779
        },
        "id": "hucM-t28RBgh",
        "outputId": "d4beba2d-0dce-4294-f98d-e215f04e4649"
      },
      "execution_count": null,
      "outputs": [
        {
          "output_type": "execute_result",
          "data": {
            "text/plain": [
              "                    sumsquare_error         aic         bic    kl_div  \\\n",
              "rel_breitwigner            0.004730  750.982059  777.018223  0.023131   \n",
              "skewcauchy                 0.008598  802.509844  828.546008  0.029611   \n",
              "laplace_asymmetric         0.009795  775.015271  801.051436  0.030226   \n",
              "norminvgauss               0.010492  788.727538  823.442424  0.035661   \n",
              "johnsonsu                  0.010913  790.701160  825.416046  0.035979   \n",
              "cauchy                     0.011200  811.194603  828.552046  0.044686   \n",
              "gennorm                    0.016289  787.669459  813.705624  0.050965   \n",
              "dweibull                   0.017476  786.399838  812.436003  0.052735   \n",
              "dgamma                     0.017782  789.789898  815.826062  0.053925   \n",
              "loglaplace                 0.018280  787.945119  813.981284  0.055383   \n",
              "\n",
              "                    ks_statistic      ks_pvalue  \n",
              "rel_breitwigner         0.024624   2.639827e-23  \n",
              "skewcauchy              0.061437  6.359632e-143  \n",
              "laplace_asymmetric      0.030433   2.259675e-35  \n",
              "norminvgauss            0.036244   5.385677e-50  \n",
              "johnsonsu               0.033778   1.768122e-43  \n",
              "cauchy                  0.067119  1.605374e-170  \n",
              "gennorm                 0.064893  2.027708e-159  \n",
              "dweibull                0.067481  2.289882e-172  \n",
              "dgamma                  0.065763  1.032919e-163  \n",
              "loglaplace              0.065149  1.125902e-160  "
            ],
            "text/html": [
              "\n",
              "  <div id=\"df-2b884554-a36a-4e64-ac6d-88af00af3092\" class=\"colab-df-container\">\n",
              "    <div>\n",
              "<style scoped>\n",
              "    .dataframe tbody tr th:only-of-type {\n",
              "        vertical-align: middle;\n",
              "    }\n",
              "\n",
              "    .dataframe tbody tr th {\n",
              "        vertical-align: top;\n",
              "    }\n",
              "\n",
              "    .dataframe thead th {\n",
              "        text-align: right;\n",
              "    }\n",
              "</style>\n",
              "<table border=\"1\" class=\"dataframe\">\n",
              "  <thead>\n",
              "    <tr style=\"text-align: right;\">\n",
              "      <th></th>\n",
              "      <th>sumsquare_error</th>\n",
              "      <th>aic</th>\n",
              "      <th>bic</th>\n",
              "      <th>kl_div</th>\n",
              "      <th>ks_statistic</th>\n",
              "      <th>ks_pvalue</th>\n",
              "    </tr>\n",
              "  </thead>\n",
              "  <tbody>\n",
              "    <tr>\n",
              "      <th>rel_breitwigner</th>\n",
              "      <td>0.004730</td>\n",
              "      <td>750.982059</td>\n",
              "      <td>777.018223</td>\n",
              "      <td>0.023131</td>\n",
              "      <td>0.024624</td>\n",
              "      <td>2.639827e-23</td>\n",
              "    </tr>\n",
              "    <tr>\n",
              "      <th>skewcauchy</th>\n",
              "      <td>0.008598</td>\n",
              "      <td>802.509844</td>\n",
              "      <td>828.546008</td>\n",
              "      <td>0.029611</td>\n",
              "      <td>0.061437</td>\n",
              "      <td>6.359632e-143</td>\n",
              "    </tr>\n",
              "    <tr>\n",
              "      <th>laplace_asymmetric</th>\n",
              "      <td>0.009795</td>\n",
              "      <td>775.015271</td>\n",
              "      <td>801.051436</td>\n",
              "      <td>0.030226</td>\n",
              "      <td>0.030433</td>\n",
              "      <td>2.259675e-35</td>\n",
              "    </tr>\n",
              "    <tr>\n",
              "      <th>norminvgauss</th>\n",
              "      <td>0.010492</td>\n",
              "      <td>788.727538</td>\n",
              "      <td>823.442424</td>\n",
              "      <td>0.035661</td>\n",
              "      <td>0.036244</td>\n",
              "      <td>5.385677e-50</td>\n",
              "    </tr>\n",
              "    <tr>\n",
              "      <th>johnsonsu</th>\n",
              "      <td>0.010913</td>\n",
              "      <td>790.701160</td>\n",
              "      <td>825.416046</td>\n",
              "      <td>0.035979</td>\n",
              "      <td>0.033778</td>\n",
              "      <td>1.768122e-43</td>\n",
              "    </tr>\n",
              "    <tr>\n",
              "      <th>cauchy</th>\n",
              "      <td>0.011200</td>\n",
              "      <td>811.194603</td>\n",
              "      <td>828.552046</td>\n",
              "      <td>0.044686</td>\n",
              "      <td>0.067119</td>\n",
              "      <td>1.605374e-170</td>\n",
              "    </tr>\n",
              "    <tr>\n",
              "      <th>gennorm</th>\n",
              "      <td>0.016289</td>\n",
              "      <td>787.669459</td>\n",
              "      <td>813.705624</td>\n",
              "      <td>0.050965</td>\n",
              "      <td>0.064893</td>\n",
              "      <td>2.027708e-159</td>\n",
              "    </tr>\n",
              "    <tr>\n",
              "      <th>dweibull</th>\n",
              "      <td>0.017476</td>\n",
              "      <td>786.399838</td>\n",
              "      <td>812.436003</td>\n",
              "      <td>0.052735</td>\n",
              "      <td>0.067481</td>\n",
              "      <td>2.289882e-172</td>\n",
              "    </tr>\n",
              "    <tr>\n",
              "      <th>dgamma</th>\n",
              "      <td>0.017782</td>\n",
              "      <td>789.789898</td>\n",
              "      <td>815.826062</td>\n",
              "      <td>0.053925</td>\n",
              "      <td>0.065763</td>\n",
              "      <td>1.032919e-163</td>\n",
              "    </tr>\n",
              "    <tr>\n",
              "      <th>loglaplace</th>\n",
              "      <td>0.018280</td>\n",
              "      <td>787.945119</td>\n",
              "      <td>813.981284</td>\n",
              "      <td>0.055383</td>\n",
              "      <td>0.065149</td>\n",
              "      <td>1.125902e-160</td>\n",
              "    </tr>\n",
              "  </tbody>\n",
              "</table>\n",
              "</div>\n",
              "    <div class=\"colab-df-buttons\">\n",
              "\n",
              "  <div class=\"colab-df-container\">\n",
              "    <button class=\"colab-df-convert\" onclick=\"convertToInteractive('df-2b884554-a36a-4e64-ac6d-88af00af3092')\"\n",
              "            title=\"Convert this dataframe to an interactive table.\"\n",
              "            style=\"display:none;\">\n",
              "\n",
              "  <svg xmlns=\"http://www.w3.org/2000/svg\" height=\"24px\" viewBox=\"0 -960 960 960\">\n",
              "    <path d=\"M120-120v-720h720v720H120Zm60-500h600v-160H180v160Zm220 220h160v-160H400v160Zm0 220h160v-160H400v160ZM180-400h160v-160H180v160Zm440 0h160v-160H620v160ZM180-180h160v-160H180v160Zm440 0h160v-160H620v160Z\"/>\n",
              "  </svg>\n",
              "    </button>\n",
              "\n",
              "  <style>\n",
              "    .colab-df-container {\n",
              "      display:flex;\n",
              "      gap: 12px;\n",
              "    }\n",
              "\n",
              "    .colab-df-convert {\n",
              "      background-color: #E8F0FE;\n",
              "      border: none;\n",
              "      border-radius: 50%;\n",
              "      cursor: pointer;\n",
              "      display: none;\n",
              "      fill: #1967D2;\n",
              "      height: 32px;\n",
              "      padding: 0 0 0 0;\n",
              "      width: 32px;\n",
              "    }\n",
              "\n",
              "    .colab-df-convert:hover {\n",
              "      background-color: #E2EBFA;\n",
              "      box-shadow: 0px 1px 2px rgba(60, 64, 67, 0.3), 0px 1px 3px 1px rgba(60, 64, 67, 0.15);\n",
              "      fill: #174EA6;\n",
              "    }\n",
              "\n",
              "    .colab-df-buttons div {\n",
              "      margin-bottom: 4px;\n",
              "    }\n",
              "\n",
              "    [theme=dark] .colab-df-convert {\n",
              "      background-color: #3B4455;\n",
              "      fill: #D2E3FC;\n",
              "    }\n",
              "\n",
              "    [theme=dark] .colab-df-convert:hover {\n",
              "      background-color: #434B5C;\n",
              "      box-shadow: 0px 1px 3px 1px rgba(0, 0, 0, 0.15);\n",
              "      filter: drop-shadow(0px 1px 2px rgba(0, 0, 0, 0.3));\n",
              "      fill: #FFFFFF;\n",
              "    }\n",
              "  </style>\n",
              "\n",
              "    <script>\n",
              "      const buttonEl =\n",
              "        document.querySelector('#df-2b884554-a36a-4e64-ac6d-88af00af3092 button.colab-df-convert');\n",
              "      buttonEl.style.display =\n",
              "        google.colab.kernel.accessAllowed ? 'block' : 'none';\n",
              "\n",
              "      async function convertToInteractive(key) {\n",
              "        const element = document.querySelector('#df-2b884554-a36a-4e64-ac6d-88af00af3092');\n",
              "        const dataTable =\n",
              "          await google.colab.kernel.invokeFunction('convertToInteractive',\n",
              "                                                    [key], {});\n",
              "        if (!dataTable) return;\n",
              "\n",
              "        const docLinkHtml = 'Like what you see? Visit the ' +\n",
              "          '<a target=\"_blank\" href=https://colab.research.google.com/notebooks/data_table.ipynb>data table notebook</a>'\n",
              "          + ' to learn more about interactive tables.';\n",
              "        element.innerHTML = '';\n",
              "        dataTable['output_type'] = 'display_data';\n",
              "        await google.colab.output.renderOutput(dataTable, element);\n",
              "        const docLink = document.createElement('div');\n",
              "        docLink.innerHTML = docLinkHtml;\n",
              "        element.appendChild(docLink);\n",
              "      }\n",
              "    </script>\n",
              "  </div>\n",
              "\n",
              "\n",
              "<div id=\"df-8b084a93-089a-4c8f-9a5b-2acbee8b6d0f\">\n",
              "  <button class=\"colab-df-quickchart\" onclick=\"quickchart('df-8b084a93-089a-4c8f-9a5b-2acbee8b6d0f')\"\n",
              "            title=\"Suggest charts\"\n",
              "            style=\"display:none;\">\n",
              "\n",
              "<svg xmlns=\"http://www.w3.org/2000/svg\" height=\"24px\"viewBox=\"0 0 24 24\"\n",
              "     width=\"24px\">\n",
              "    <g>\n",
              "        <path d=\"M19 3H5c-1.1 0-2 .9-2 2v14c0 1.1.9 2 2 2h14c1.1 0 2-.9 2-2V5c0-1.1-.9-2-2-2zM9 17H7v-7h2v7zm4 0h-2V7h2v10zm4 0h-2v-4h2v4z\"/>\n",
              "    </g>\n",
              "</svg>\n",
              "  </button>\n",
              "\n",
              "<style>\n",
              "  .colab-df-quickchart {\n",
              "      --bg-color: #E8F0FE;\n",
              "      --fill-color: #1967D2;\n",
              "      --hover-bg-color: #E2EBFA;\n",
              "      --hover-fill-color: #174EA6;\n",
              "      --disabled-fill-color: #AAA;\n",
              "      --disabled-bg-color: #DDD;\n",
              "  }\n",
              "\n",
              "  [theme=dark] .colab-df-quickchart {\n",
              "      --bg-color: #3B4455;\n",
              "      --fill-color: #D2E3FC;\n",
              "      --hover-bg-color: #434B5C;\n",
              "      --hover-fill-color: #FFFFFF;\n",
              "      --disabled-bg-color: #3B4455;\n",
              "      --disabled-fill-color: #666;\n",
              "  }\n",
              "\n",
              "  .colab-df-quickchart {\n",
              "    background-color: var(--bg-color);\n",
              "    border: none;\n",
              "    border-radius: 50%;\n",
              "    cursor: pointer;\n",
              "    display: none;\n",
              "    fill: var(--fill-color);\n",
              "    height: 32px;\n",
              "    padding: 0;\n",
              "    width: 32px;\n",
              "  }\n",
              "\n",
              "  .colab-df-quickchart:hover {\n",
              "    background-color: var(--hover-bg-color);\n",
              "    box-shadow: 0 1px 2px rgba(60, 64, 67, 0.3), 0 1px 3px 1px rgba(60, 64, 67, 0.15);\n",
              "    fill: var(--button-hover-fill-color);\n",
              "  }\n",
              "\n",
              "  .colab-df-quickchart-complete:disabled,\n",
              "  .colab-df-quickchart-complete:disabled:hover {\n",
              "    background-color: var(--disabled-bg-color);\n",
              "    fill: var(--disabled-fill-color);\n",
              "    box-shadow: none;\n",
              "  }\n",
              "\n",
              "  .colab-df-spinner {\n",
              "    border: 2px solid var(--fill-color);\n",
              "    border-color: transparent;\n",
              "    border-bottom-color: var(--fill-color);\n",
              "    animation:\n",
              "      spin 1s steps(1) infinite;\n",
              "  }\n",
              "\n",
              "  @keyframes spin {\n",
              "    0% {\n",
              "      border-color: transparent;\n",
              "      border-bottom-color: var(--fill-color);\n",
              "      border-left-color: var(--fill-color);\n",
              "    }\n",
              "    20% {\n",
              "      border-color: transparent;\n",
              "      border-left-color: var(--fill-color);\n",
              "      border-top-color: var(--fill-color);\n",
              "    }\n",
              "    30% {\n",
              "      border-color: transparent;\n",
              "      border-left-color: var(--fill-color);\n",
              "      border-top-color: var(--fill-color);\n",
              "      border-right-color: var(--fill-color);\n",
              "    }\n",
              "    40% {\n",
              "      border-color: transparent;\n",
              "      border-right-color: var(--fill-color);\n",
              "      border-top-color: var(--fill-color);\n",
              "    }\n",
              "    60% {\n",
              "      border-color: transparent;\n",
              "      border-right-color: var(--fill-color);\n",
              "    }\n",
              "    80% {\n",
              "      border-color: transparent;\n",
              "      border-right-color: var(--fill-color);\n",
              "      border-bottom-color: var(--fill-color);\n",
              "    }\n",
              "    90% {\n",
              "      border-color: transparent;\n",
              "      border-bottom-color: var(--fill-color);\n",
              "    }\n",
              "  }\n",
              "</style>\n",
              "\n",
              "  <script>\n",
              "    async function quickchart(key) {\n",
              "      const quickchartButtonEl =\n",
              "        document.querySelector('#' + key + ' button');\n",
              "      quickchartButtonEl.disabled = true;  // To prevent multiple clicks.\n",
              "      quickchartButtonEl.classList.add('colab-df-spinner');\n",
              "      try {\n",
              "        const charts = await google.colab.kernel.invokeFunction(\n",
              "            'suggestCharts', [key], {});\n",
              "      } catch (error) {\n",
              "        console.error('Error during call to suggestCharts:', error);\n",
              "      }\n",
              "      quickchartButtonEl.classList.remove('colab-df-spinner');\n",
              "      quickchartButtonEl.classList.add('colab-df-quickchart-complete');\n",
              "    }\n",
              "    (() => {\n",
              "      let quickchartButtonEl =\n",
              "        document.querySelector('#df-8b084a93-089a-4c8f-9a5b-2acbee8b6d0f button');\n",
              "      quickchartButtonEl.style.display =\n",
              "        google.colab.kernel.accessAllowed ? 'block' : 'none';\n",
              "    })();\n",
              "  </script>\n",
              "</div>\n",
              "    </div>\n",
              "  </div>\n"
            ],
            "application/vnd.google.colaboratory.intrinsic+json": {
              "type": "dataframe",
              "summary": "{\n  \"name\": \"f\",\n  \"rows\": 10,\n  \"fields\": [\n    {\n      \"column\": \"sumsquare_error\",\n      \"properties\": {\n        \"dtype\": \"number\",\n        \"std\": 0.004613466509843831,\n        \"min\": 0.004729842125331448,\n        \"max\": 0.018280445335762407,\n        \"num_unique_values\": 10,\n        \"samples\": [\n          0.017782104382810977,\n          0.008598323307623501,\n          0.011199826347973238\n        ],\n        \"semantic_type\": \"\",\n        \"description\": \"\"\n      }\n    },\n    {\n      \"column\": \"aic\",\n      \"properties\": {\n        \"dtype\": \"number\",\n        \"std\": 15.961553232004073,\n        \"min\": 750.9820588015543,\n        \"max\": 811.1946033299718,\n        \"num_unique_values\": 10,\n        \"samples\": [\n          789.7898976076774,\n          802.5098438168843,\n          811.1946033299718\n        ],\n        \"semantic_type\": \"\",\n        \"description\": \"\"\n      }\n    },\n    {\n      \"column\": \"bic\",\n      \"properties\": {\n        \"dtype\": \"number\",\n        \"std\": 15.577828038573482,\n        \"min\": 777.0182233138369,\n        \"max\": 828.5520463381602,\n        \"num_unique_values\": 10,\n        \"samples\": [\n          815.8260621199599,\n          828.5460083291669,\n          828.5520463381602\n        ],\n        \"semantic_type\": \"\",\n        \"description\": \"\"\n      }\n    },\n    {\n      \"column\": \"kl_div\",\n      \"properties\": {\n        \"dtype\": \"number\",\n        \"std\": 0.011751099848736518,\n        \"min\": 0.023130909696145344,\n        \"max\": 0.05538262175102365,\n        \"num_unique_values\": 10,\n        \"samples\": [\n          0.053925220186188894,\n          0.029611002004971115,\n          0.044686137731946816\n        ],\n        \"semantic_type\": \"\",\n        \"description\": \"\"\n      }\n    },\n    {\n      \"column\": \"ks_statistic\",\n      \"properties\": {\n        \"dtype\": \"number\",\n        \"std\": 0.01788775151507538,\n        \"min\": 0.02462435837307897,\n        \"max\": 0.06748141331019852,\n        \"num_unique_values\": 10,\n        \"samples\": [\n          0.06576281197513029,\n          0.061437459164969524,\n          0.06711857960347001\n        ],\n        \"semantic_type\": \"\",\n        \"description\": \"\"\n      }\n    },\n    {\n      \"column\": \"ks_pvalue\",\n      \"properties\": {\n        \"dtype\": \"number\",\n        \"std\": 8.347866414127605e-24,\n        \"min\": 2.2898823786887286e-172,\n        \"max\": 2.639827147146815e-23,\n        \"num_unique_values\": 10,\n        \"samples\": [\n          1.03291874775353e-163,\n          6.359631917501363e-143,\n          1.6053737765841373e-170\n        ],\n        \"semantic_type\": \"\",\n        \"description\": \"\"\n      }\n    }\n  ]\n}"
            }
          },
          "metadata": {},
          "execution_count": 57
        },
        {
          "output_type": "display_data",
          "data": {
            "text/plain": [
              "<Figure size 640x480 with 1 Axes>"
            ],
            "image/png": "[encoded data removed]"
          },
          "metadata": {}
        }
      ]
    },
    {
      "cell_type": "markdown",
      "source": [
        "Fitter me devuelve las mejores distribuciones de ajuste de acuerdo a distintos criterios *(sumsquare_error, aic,\tbic, kl_div, ks_statistic,ks_pvalue)*.\n",
        "Podemos por ejemplo obtener la mejor distribución, considerando el criterio de la [suma residual de cuadrados](https://es.wikipedia.org/wiki/Suma_residual_de_cuadrados)."
      ],
      "metadata": {
        "id": "dbw856YaVMVT"
      }
    },
    {
      "cell_type": "code",
      "source": [
        "# Obtengo los parámetros de la mejor fdp\n",
        "f.get_best(method='sumsquare_error')"
      ],
      "metadata": {
        "colab": {
          "base_uri": "https://localhost:8080/"
        },
        "id": "-6dWD7Kh7l_N",
        "outputId": "6822ebc1-6f13-411d-ff4a-3ab59a2b3771"
      },
      "execution_count": null,
      "outputs": [
        {
          "output_type": "execute_result",
          "data": {
            "text/plain": [
              "{'rel_breitwigner': {'rho': 4.041298404882269,\n",
              "  'loc': -0.0011996563210242908,\n",
              "  'scale': 3.755282486437009}}"
            ]
          },
          "metadata": {},
          "execution_count": 14
        }
      ]
    },
    {
      "cell_type": "markdown",
      "source": [
        "En este último ejemplo nos devuelve que la mejor distribución es la [\"Breit-Wigner relativista\"](https://es.wikipedia.org/wiki/Distribuci%C3%B3n_de_Breit-Wigner_relativista).\n",
        "\n",
        "No está demás que con cada distribución sugerida, consultemos la [documentación de la misma en Scipy](https://docs.scipy.org/doc/scipy/reference/generated/scipy.stats.rel_breitwigner.html).\n",
        "\n",
        "La función de densidad de probabilidad de Breit-Wigner relativista es:\n",
        "\n",
        "$\\begin{equation}f(x,\\rho) = \\frac{k}{(x^2 - \\rho^2)^2 + \\rho^2}\n",
        "\\end{equation}$  \n",
        "\n",
        "\n",
        "\n",
        "En donde $k$ es:\n",
        "\n",
        "$\\begin{equation}k = \\frac{2\\sqrt 2 \\rho^2 \\sqrt{\\rho^2+1}}{\\pi\\sqrt{\\rho^2 + \\rho\\sqrt{\\rho^2+1}}}\n",
        "\\end{equation}$\n",
        "\n",
        "Los 3 parámetros devueltos (*rho, loc* y *scale*) corresponden **propriamente a esta función de distribución** y será de utilidad la hora de generar valores\n",
        "aleatorios. Investigar en la documentación de Scipy los parámetros específicos de cada distribución con la que elijamos trabajar."
      ],
      "metadata": {
        "id": "X6Lm6eWhYETj"
      }
    },
    {
      "cell_type": "markdown",
      "source": [
        "## 6. Verificación"
      ],
      "metadata": {
        "id": "czYUkpzvffG5"
      }
    },
    {
      "cell_type": "markdown",
      "source": [
        "Los valores de los parámetros que nos había devuelto *get_best()* para la distribución Breit-Wigner, los cargamos en 3 variables:"
      ],
      "metadata": {
        "id": "V0Xhms6xeApK"
      }
    },
    {
      "cell_type": "code",
      "source": [
        "rho = 4.041298404882269\n",
        "loc = -0.0011996563210242908\n",
        "scale =  3.755282486437009"
      ],
      "metadata": {
        "id": "zvkHzZJU9NHl"
      },
      "execution_count": null,
      "outputs": []
    },
    {
      "cell_type": "markdown",
      "source": [
        "La idea es que mediante la [biblioteca de funciones estadística scipy.stats](https://docs.scipy.org/doc/scipy/reference/stats.html) generamos un array de datos con esta distribución:"
      ],
      "metadata": {
        "id": "TTk-MIhfeH4_"
      }
    },
    {
      "cell_type": "code",
      "source": [
        "f_verif = stats.rel_breitwigner.rvs(rho, loc, scale, size=4000, random_state=None)"
      ],
      "metadata": {
        "id": "__H9ZtwA8zsc"
      },
      "execution_count": null,
      "outputs": []
    },
    {
      "cell_type": "markdown",
      "source": [
        "Como mencionamos, el tipo de dato de esta variable creada es un array de numpy."
      ],
      "metadata": {
        "id": "N65vLAXwe4g7"
      }
    },
    {
      "cell_type": "code",
      "source": [
        "type(f_verif)"
      ],
      "metadata": {
        "colab": {
          "base_uri": "https://localhost:8080/"
        },
        "id": "mgRokAsg-pih",
        "outputId": "e9310773-aa16-4bf8-dadd-ab34d0f524ce"
      },
      "execution_count": null,
      "outputs": [
        {
          "output_type": "execute_result",
          "data": {
            "text/plain": [
              "numpy.ndarray"
            ]
          },
          "metadata": {},
          "execution_count": 66
        }
      ]
    },
    {
      "cell_type": "markdown",
      "source": [
        "En el parámetro size le indicamos que el tamaño de este array es de 4000.\n",
        "\n",
        "De esta manera, pudimos \"simular\" un set de datos similar a los datos de origen con los cuales inciamos nuestro análisis."
      ],
      "metadata": {
        "id": "3rf6Yb9jfFQI"
      }
    },
    {
      "cell_type": "code",
      "source": [
        "f_verif"
      ],
      "metadata": {
        "colab": {
          "base_uri": "https://localhost:8080/"
        },
        "id": "xc1ry-Ud9wmN",
        "outputId": "b3ae4799-157f-4fff-a519-3774996e1dd2"
      },
      "execution_count": null,
      "outputs": [
        {
          "output_type": "execute_result",
          "data": {
            "text/plain": [
              "array([12.24555495, 14.94884352, 19.14712037, ..., 20.89608837,\n",
              "       11.1861197 , 12.52038086])"
            ]
          },
          "metadata": {},
          "execution_count": 60
        }
      ]
    },
    {
      "cell_type": "markdown",
      "source": [
        "Una primera forma de verificar nuestro análisis es realizando un histograma con los datos generados:"
      ],
      "metadata": {
        "id": "rbK9WhvRk-5F"
      }
    },
    {
      "cell_type": "code",
      "source": [
        "# Histograma de datos de verificación\n",
        "plt.title(\"Histograma\")\n",
        "plt.xlabel(\"X axis\")\n",
        "plt.ylabel(\"Y axis\")\n",
        "plt.xlim(0, 30)\n",
        "plt.ylim(0, 5000)\n",
        "plt.hist(f_verif, bins=200)\n",
        "plt.show()"
      ],
      "metadata": {
        "colab": {
          "base_uri": "https://localhost:8080/",
          "height": 472
        },
        "id": "F2bClyat-vMQ",
        "outputId": "c3fe1ef6-dce6-4fcb-8e09-80d5676e824f"
      },
      "execution_count": null,
      "outputs": [
        {
          "output_type": "display_data",
          "data": {
            "text/plain": [
              "<Figure size 640x480 with 1 Axes>"
            ],
            "image/png": "[encoded data removed]"
          },
          "metadata": {}
        }
      ]
    },
    {
      "cell_type": "markdown",
      "source": [
        "### Opcional\n",
        "\n",
        "De la misma manera, si realizamos un buen análisis, aplicando los datos de verificación a Fitter debería ajustar a la función previamente sugerida:"
      ],
      "metadata": {
        "id": "D5FE17ScC9Jp"
      }
    },
    {
      "cell_type": "code",
      "source": [
        "v = Fitter(f_verif, distributions=['uniform', 'rel_breitwigner','skewcauchy','norminvgauss'])"
      ],
      "metadata": {
        "id": "4XeIpnIplsVY"
      },
      "execution_count": null,
      "outputs": []
    },
    {
      "cell_type": "code",
      "source": [
        "v.fit()"
      ],
      "metadata": {
        "colab": {
          "base_uri": "https://localhost:8080/"
        },
        "id": "g81NyxKQl8cr",
        "outputId": "bc46f8d4-bcb2-4cf4-fcb0-0ad5f932cf29"
      },
      "execution_count": null,
      "outputs": [
        {
          "output_type": "stream",
          "name": "stderr",
          "text": [
            "\u001b[32m2024-04-08 03:51:27.525\u001b[0m | \u001b[1mINFO    \u001b[0m | \u001b[36mfitter.fitter\u001b[0m:\u001b[36m_fit_single_distribution\u001b[0m:\u001b[36m337\u001b[0m - \u001b[1mFitted uniform distribution with error=0.052388)\u001b[0m\n",
            "\u001b[32m2024-04-08 03:51:29.927\u001b[0m | \u001b[1mINFO    \u001b[0m | \u001b[36mfitter.fitter\u001b[0m:\u001b[36m_fit_single_distribution\u001b[0m:\u001b[36m337\u001b[0m - \u001b[1mFitted skewcauchy distribution with error=0.000409)\u001b[0m\n",
            "\u001b[32m2024-04-08 03:51:32.050\u001b[0m | \u001b[1mINFO    \u001b[0m | \u001b[36mfitter.fitter\u001b[0m:\u001b[36m_fit_single_distribution\u001b[0m:\u001b[36m337\u001b[0m - \u001b[1mFitted rel_breitwigner distribution with error=0.005509)\u001b[0m\n",
            "\u001b[32m2024-04-08 03:51:59.970\u001b[0m | \u001b[33m\u001b[1mWARNING \u001b[0m | \u001b[36mfitter.fitter\u001b[0m:\u001b[36m_fit_single_distribution\u001b[0m:\u001b[36m347\u001b[0m - \u001b[33m\u001b[1mSKIPPED norminvgauss distribution (taking more than 30 seconds)\u001b[0m\n"
          ]
        }
      ]
    },
    {
      "cell_type": "code",
      "source": [
        "v.summary(6)"
      ],
      "metadata": {
        "colab": {
          "base_uri": "https://localhost:8080/",
          "height": 606
        },
        "id": "VEjHvENHmzb9",
        "outputId": "be91c967-90e1-4b22-e6b3-cc2e5d997ad8"
      },
      "execution_count": null,
      "outputs": [
        {
          "output_type": "stream",
          "name": "stderr",
          "text": [
            "\u001b[32m2024-04-08 03:52:12.518\u001b[0m | \u001b[33m\u001b[1mWARNING \u001b[0m | \u001b[36mfitter.fitter\u001b[0m:\u001b[36mplot_pdf\u001b[0m:\u001b[36m417\u001b[0m - \u001b[33m\u001b[1mnorminvgauss was not fitted. no parameters available\u001b[0m\n"
          ]
        },
        {
          "output_type": "execute_result",
          "data": {
            "text/plain": [
              "                 sumsquare_error          aic          bic  kl_div  \\\n",
              "skewcauchy              0.000409  1710.045206  1735.835111     inf   \n",
              "rel_breitwigner         0.005509  1903.010356  1928.800260     inf   \n",
              "uniform                 0.052388  1016.514751  1033.708020     inf   \n",
              "norminvgauss                 inf          inf          inf     inf   \n",
              "\n",
              "                 ks_statistic     ks_pvalue  \n",
              "skewcauchy           0.052454  4.316288e-96  \n",
              "rel_breitwigner      0.114003  0.000000e+00  \n",
              "uniform              0.825103  0.000000e+00  \n",
              "norminvgauss              NaN           NaN  "
            ],
            "text/html": [
              "\n",
              "  <div id=\"df-5b223a60-ae1a-4345-a1a3-e466ee818d7a\" class=\"colab-df-container\">\n",
              "    <div>\n",
              "<style scoped>\n",
              "    .dataframe tbody tr th:only-of-type {\n",
              "        vertical-align: middle;\n",
              "    }\n",
              "\n",
              "    .dataframe tbody tr th {\n",
              "        vertical-align: top;\n",
              "    }\n",
              "\n",
              "    .dataframe thead th {\n",
              "        text-align: right;\n",
              "    }\n",
              "</style>\n",
              "<table border=\"1\" class=\"dataframe\">\n",
              "  <thead>\n",
              "    <tr style=\"text-align: right;\">\n",
              "      <th></th>\n",
              "      <th>sumsquare_error</th>\n",
              "      <th>aic</th>\n",
              "      <th>bic</th>\n",
              "      <th>kl_div</th>\n",
              "      <th>ks_statistic</th>\n",
              "      <th>ks_pvalue</th>\n",
              "    </tr>\n",
              "  </thead>\n",
              "  <tbody>\n",
              "    <tr>\n",
              "      <th>skewcauchy</th>\n",
              "      <td>0.000409</td>\n",
              "      <td>1710.045206</td>\n",
              "      <td>1735.835111</td>\n",
              "      <td>inf</td>\n",
              "      <td>0.052454</td>\n",
              "      <td>4.316288e-96</td>\n",
              "    </tr>\n",
              "    <tr>\n",
              "      <th>rel_breitwigner</th>\n",
              "      <td>0.005509</td>\n",
              "      <td>1903.010356</td>\n",
              "      <td>1928.800260</td>\n",
              "      <td>inf</td>\n",
              "      <td>0.114003</td>\n",
              "      <td>0.000000e+00</td>\n",
              "    </tr>\n",
              "    <tr>\n",
              "      <th>uniform</th>\n",
              "      <td>0.052388</td>\n",
              "      <td>1016.514751</td>\n",
              "      <td>1033.708020</td>\n",
              "      <td>inf</td>\n",
              "      <td>0.825103</td>\n",
              "      <td>0.000000e+00</td>\n",
              "    </tr>\n",
              "    <tr>\n",
              "      <th>norminvgauss</th>\n",
              "      <td>inf</td>\n",
              "      <td>inf</td>\n",
              "      <td>inf</td>\n",
              "      <td>inf</td>\n",
              "      <td>NaN</td>\n",
              "      <td>NaN</td>\n",
              "    </tr>\n",
              "  </tbody>\n",
              "</table>\n",
              "</div>\n",
              "    <div class=\"colab-df-buttons\">\n",
              "\n",
              "  <div class=\"colab-df-container\">\n",
              "    <button class=\"colab-df-convert\" onclick=\"convertToInteractive('df-5b223a60-ae1a-4345-a1a3-e466ee818d7a')\"\n",
              "            title=\"Convert this dataframe to an interactive table.\"\n",
              "            style=\"display:none;\">\n",
              "\n",
              "  <svg xmlns=\"http://www.w3.org/2000/svg\" height=\"24px\" viewBox=\"0 -960 960 960\">\n",
              "    <path d=\"M120-120v-720h720v720H120Zm60-500h600v-160H180v160Zm220 220h160v-160H400v160Zm0 220h160v-160H400v160ZM180-400h160v-160H180v160Zm440 0h160v-160H620v160ZM180-180h160v-160H180v160Zm440 0h160v-160H620v160Z\"/>\n",
              "  </svg>\n",
              "    </button>\n",
              "\n",
              "  <style>\n",
              "    .colab-df-container {\n",
              "      display:flex;\n",
              "      gap: 12px;\n",
              "    }\n",
              "\n",
              "    .colab-df-convert {\n",
              "      background-color: #E8F0FE;\n",
              "      border: none;\n",
              "      border-radius: 50%;\n",
              "      cursor: pointer;\n",
              "      display: none;\n",
              "      fill: #1967D2;\n",
              "      height: 32px;\n",
              "      padding: 0 0 0 0;\n",
              "      width: 32px;\n",
              "    }\n",
              "\n",
              "    .colab-df-convert:hover {\n",
              "      background-color: #E2EBFA;\n",
              "      box-shadow: 0px 1px 2px rgba(60, 64, 67, 0.3), 0px 1px 3px 1px rgba(60, 64, 67, 0.15);\n",
              "      fill: #174EA6;\n",
              "    }\n",
              "\n",
              "    .colab-df-buttons div {\n",
              "      margin-bottom: 4px;\n",
              "    }\n",
              "\n",
              "    [theme=dark] .colab-df-convert {\n",
              "      background-color: #3B4455;\n",
              "      fill: #D2E3FC;\n",
              "    }\n",
              "\n",
              "    [theme=dark] .colab-df-convert:hover {\n",
              "      background-color: #434B5C;\n",
              "      box-shadow: 0px 1px 3px 1px rgba(0, 0, 0, 0.15);\n",
              "      filter: drop-shadow(0px 1px 2px rgba(0, 0, 0, 0.3));\n",
              "      fill: #FFFFFF;\n",
              "    }\n",
              "  </style>\n",
              "\n",
              "    <script>\n",
              "      const buttonEl =\n",
              "        document.querySelector('#df-5b223a60-ae1a-4345-a1a3-e466ee818d7a button.colab-df-convert');\n",
              "      buttonEl.style.display =\n",
              "        google.colab.kernel.accessAllowed ? 'block' : 'none';\n",
              "\n",
              "      async function convertToInteractive(key) {\n",
              "        const element = document.querySelector('#df-5b223a60-ae1a-4345-a1a3-e466ee818d7a');\n",
              "        const dataTable =\n",
              "          await google.colab.kernel.invokeFunction('convertToInteractive',\n",
              "                                                    [key], {});\n",
              "        if (!dataTable) return;\n",
              "\n",
              "        const docLinkHtml = 'Like what you see? Visit the ' +\n",
              "          '<a target=\"_blank\" href=https://colab.research.google.com/notebooks/data_table.ipynb>data table notebook</a>'\n",
              "          + ' to learn more about interactive tables.';\n",
              "        element.innerHTML = '';\n",
              "        dataTable['output_type'] = 'display_data';\n",
              "        await google.colab.output.renderOutput(dataTable, element);\n",
              "        const docLink = document.createElement('div');\n",
              "        docLink.innerHTML = docLinkHtml;\n",
              "        element.appendChild(docLink);\n",
              "      }\n",
              "    </script>\n",
              "  </div>\n",
              "\n",
              "\n",
              "<div id=\"df-d3fc98a5-c12e-4125-b15c-fb872289489c\">\n",
              "  <button class=\"colab-df-quickchart\" onclick=\"quickchart('df-d3fc98a5-c12e-4125-b15c-fb872289489c')\"\n",
              "            title=\"Suggest charts\"\n",
              "            style=\"display:none;\">\n",
              "\n",
              "<svg xmlns=\"http://www.w3.org/2000/svg\" height=\"24px\"viewBox=\"0 0 24 24\"\n",
              "     width=\"24px\">\n",
              "    <g>\n",
              "        <path d=\"M19 3H5c-1.1 0-2 .9-2 2v14c0 1.1.9 2 2 2h14c1.1 0 2-.9 2-2V5c0-1.1-.9-2-2-2zM9 17H7v-7h2v7zm4 0h-2V7h2v10zm4 0h-2v-4h2v4z\"/>\n",
              "    </g>\n",
              "</svg>\n",
              "  </button>\n",
              "\n",
              "<style>\n",
              "  .colab-df-quickchart {\n",
              "      --bg-color: #E8F0FE;\n",
              "      --fill-color: #1967D2;\n",
              "      --hover-bg-color: #E2EBFA;\n",
              "      --hover-fill-color: #174EA6;\n",
              "      --disabled-fill-color: #AAA;\n",
              "      --disabled-bg-color: #DDD;\n",
              "  }\n",
              "\n",
              "  [theme=dark] .colab-df-quickchart {\n",
              "      --bg-color: #3B4455;\n",
              "      --fill-color: #D2E3FC;\n",
              "      --hover-bg-color: #434B5C;\n",
              "      --hover-fill-color: #FFFFFF;\n",
              "      --disabled-bg-color: #3B4455;\n",
              "      --disabled-fill-color: #666;\n",
              "  }\n",
              "\n",
              "  .colab-df-quickchart {\n",
              "    background-color: var(--bg-color);\n",
              "    border: none;\n",
              "    border-radius: 50%;\n",
              "    cursor: pointer;\n",
              "    display: none;\n",
              "    fill: var(--fill-color);\n",
              "    height: 32px;\n",
              "    padding: 0;\n",
              "    width: 32px;\n",
              "  }\n",
              "\n",
              "  .colab-df-quickchart:hover {\n",
              "    background-color: var(--hover-bg-color);\n",
              "    box-shadow: 0 1px 2px rgba(60, 64, 67, 0.3), 0 1px 3px 1px rgba(60, 64, 67, 0.15);\n",
              "    fill: var(--button-hover-fill-color);\n",
              "  }\n",
              "\n",
              "  .colab-df-quickchart-complete:disabled,\n",
              "  .colab-df-quickchart-complete:disabled:hover {\n",
              "    background-color: var(--disabled-bg-color);\n",
              "    fill: var(--disabled-fill-color);\n",
              "    box-shadow: none;\n",
              "  }\n",
              "\n",
              "  .colab-df-spinner {\n",
              "    border: 2px solid var(--fill-color);\n",
              "    border-color: transparent;\n",
              "    border-bottom-color: var(--fill-color);\n",
              "    animation:\n",
              "      spin 1s steps(1) infinite;\n",
              "  }\n",
              "\n",
              "  @keyframes spin {\n",
              "    0% {\n",
              "      border-color: transparent;\n",
              "      border-bottom-color: var(--fill-color);\n",
              "      border-left-color: var(--fill-color);\n",
              "    }\n",
              "    20% {\n",
              "      border-color: transparent;\n",
              "      border-left-color: var(--fill-color);\n",
              "      border-top-color: var(--fill-color);\n",
              "    }\n",
              "    30% {\n",
              "      border-color: transparent;\n",
              "      border-left-color: var(--fill-color);\n",
              "      border-top-color: var(--fill-color);\n",
              "      border-right-color: var(--fill-color);\n",
              "    }\n",
              "    40% {\n",
              "      border-color: transparent;\n",
              "      border-right-color: var(--fill-color);\n",
              "      border-top-color: var(--fill-color);\n",
              "    }\n",
              "    60% {\n",
              "      border-color: transparent;\n",
              "      border-right-color: var(--fill-color);\n",
              "    }\n",
              "    80% {\n",
              "      border-color: transparent;\n",
              "      border-right-color: var(--fill-color);\n",
              "      border-bottom-color: var(--fill-color);\n",
              "    }\n",
              "    90% {\n",
              "      border-color: transparent;\n",
              "      border-bottom-color: var(--fill-color);\n",
              "    }\n",
              "  }\n",
              "</style>\n",
              "\n",
              "  <script>\n",
              "    async function quickchart(key) {\n",
              "      const quickchartButtonEl =\n",
              "        document.querySelector('#' + key + ' button');\n",
              "      quickchartButtonEl.disabled = true;  // To prevent multiple clicks.\n",
              "      quickchartButtonEl.classList.add('colab-df-spinner');\n",
              "      try {\n",
              "        const charts = await google.colab.kernel.invokeFunction(\n",
              "            'suggestCharts', [key], {});\n",
              "      } catch (error) {\n",
              "        console.error('Error during call to suggestCharts:', error);\n",
              "      }\n",
              "      quickchartButtonEl.classList.remove('colab-df-spinner');\n",
              "      quickchartButtonEl.classList.add('colab-df-quickchart-complete');\n",
              "    }\n",
              "    (() => {\n",
              "      let quickchartButtonEl =\n",
              "        document.querySelector('#df-d3fc98a5-c12e-4125-b15c-fb872289489c button');\n",
              "      quickchartButtonEl.style.display =\n",
              "        google.colab.kernel.accessAllowed ? 'block' : 'none';\n",
              "    })();\n",
              "  </script>\n",
              "</div>\n",
              "    </div>\n",
              "  </div>\n"
            ],
            "application/vnd.google.colaboratory.intrinsic+json": {
              "type": "dataframe",
              "repr_error": "Out of range float values are not JSON compliant: inf"
            }
          },
          "metadata": {},
          "execution_count": 72
        },
        {
          "output_type": "display_data",
          "data": {
            "text/plain": [
              "<Figure size 640x480 with 1 Axes>"
            ],
            "image/png": "[encoded data removed]"
          },
          "metadata": {}
        }
      ]
    },
    {
      "cell_type": "markdown",
      "source": [
        "## 7. Conclusión\n",
        "\n",
        "Observando el array de datos generados con la función de *stats.rel_breitwigner* y posteriormente observando su distribución en el histograma podemos concluir sobre la similitud con los datos de origen.\n",
        "\n",
        "Para ser mucho más exhaustivo podemos con este array simulado volver a ajustar los datos con Fitter como hicimos en la última parte del inciso 6, y entre la lista de funciones sugeridas por Fitter, vemos que nuevamente se encuentra la función *stats.rel_breitwigner*.\n"
      ],
      "metadata": {
        "id": "IVfDIDlzpf_8"
      }
    }
  ]
}